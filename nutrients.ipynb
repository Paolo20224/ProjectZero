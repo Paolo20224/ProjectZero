{
  "nbformat": 4,
  "nbformat_minor": 0,
  "metadata": {
    "colab": {
      "name": "nutrients.ipynb",
      "provenance": [],
      "authorship_tag": "ABX9TyOLzxBFyHUGNFx6p7ZBea5G",
      "include_colab_link": true
    },
    "kernelspec": {
      "name": "python3",
      "display_name": "Python 3"
    },
    "language_info": {
      "name": "python"
    }
  },
  "cells": [
    {
      "cell_type": "markdown",
      "metadata": {
        "id": "view-in-github",
        "colab_type": "text"
      },
      "source": [
        "<a href=\"https://colab.research.google.com/github/Paolo20224/ProjectZero/blob/main/nutrients.ipynb\" target=\"_parent\"><img src=\"https://colab.research.google.com/assets/colab-badge.svg\" alt=\"Open In Colab\"/></a>"
      ]
    },
    {
      "cell_type": "code",
      "execution_count": null,
      "metadata": {
        "id": "-9CTwMX56CNJ"
      },
      "outputs": [],
      "source": [
        "# Realizar el analisis exploratorio de data (duplicados, nulos, columnas erroneas). \n",
        "# Luego realizar 4 gráficos con sus correspondientes explicaciones, tengan en cuenta la estetica de las ilustraciones.\n",
        "# Bajo su concepto, generar una salida OUTCOME de clasificación, a criterio de cada uno, y una columna PREDICTION, aleatoria con lo que seria el resultado de un modelo. \n",
        "# Generar la matriz de confusión, calcular el RECALL. \n",
        "# Generar una presentación con 4 slides, titulo, objetivos, metodologia, graficos y 2 conclusiones.\n",
        "# enviar a jortiz@codingdojo.cl"
      ]
    }
  ]
}
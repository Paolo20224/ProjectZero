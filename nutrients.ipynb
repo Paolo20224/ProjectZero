{
  "nbformat": 4,
  "nbformat_minor": 0,
  "metadata": {
    "colab": {
      "name": "nutrients.ipynb",
      "provenance": [],
      "authorship_tag": "ABX9TyNe+pnwr1RW1JdhmLikJqci",
      "include_colab_link": true
    },
    "kernelspec": {
      "name": "python3",
      "display_name": "Python 3"
    },
    "language_info": {
      "name": "python"
    }
  },
  "cells": [
    {
      "cell_type": "markdown",
      "metadata": {
        "id": "view-in-github",
        "colab_type": "text"
      },
      "source": [
        "<a href=\"https://colab.research.google.com/github/Paolo20224/ProjectZero/blob/main/nutrients.ipynb\" target=\"_parent\"><img src=\"https://colab.research.google.com/assets/colab-badge.svg\" alt=\"Open In Colab\"/></a>"
      ]
    },
    {
      "cell_type": "code",
      "execution_count": 278,
      "metadata": {
        "id": "-9CTwMX56CNJ"
      },
      "outputs": [],
      "source": [
        "# Realizar el analisis exploratorio de data (duplicados, nulos, columnas erroneas). \n",
        "# Luego realizar 4 gráficos con sus correspondientes explicaciones, tengan en cuenta la estetica de las ilustraciones.\n",
        "# Bajo su concepto, generar una salida OUTCOME de clasificación, a criterio de cada uno, y una columna PREDICTION, aleatoria con lo que seria el resultado de un modelo. \n",
        "# Generar la matriz de confusión, calcular el RECALL. \n",
        "# Generar una presentación con 4 slides, titulo, objetivos, metodologia, graficos y 2 conclusiones.\n",
        "# enviar a jortiz@codingdojo.cl"
      ]
    },
    {
      "cell_type": "code",
      "source": [
        "#Iniciamos el análisis de nuestro Dataframe, incorporando nuestra información bruta en Colab\n",
        "import pandas as pd\n",
        "filename = \"/content/nutrients_csvfile.csv\"\n",
        "df = pd.read_csv(filename)"
      ],
      "metadata": {
        "id": "1IWyNhOQ7FHR"
      },
      "execution_count": 279,
      "outputs": []
    },
    {
      "cell_type": "markdown",
      "source": [
        "1. Analisis y Limpieza de Dataframe"
      ],
      "metadata": {
        "id": "eo35JZUDms0P"
      }
    },
    {
      "cell_type": "code",
      "source": [
        "#Una vez cargada la informacion, verificamos los tipos de datos de cada columna\n",
        "df.info()"
      ],
      "metadata": {
        "colab": {
          "base_uri": "https://localhost:8080/"
        },
        "id": "4cG3umUK7OYc",
        "outputId": "95aec7df-299f-469c-b0c5-e9e77c02f745"
      },
      "execution_count": 280,
      "outputs": [
        {
          "output_type": "stream",
          "name": "stdout",
          "text": [
            "<class 'pandas.core.frame.DataFrame'>\n",
            "RangeIndex: 335 entries, 0 to 334\n",
            "Data columns (total 10 columns):\n",
            " #   Column    Non-Null Count  Dtype \n",
            "---  ------    --------------  ----- \n",
            " 0   Food      335 non-null    object\n",
            " 1   Measure   335 non-null    object\n",
            " 2   Grams     335 non-null    object\n",
            " 3   Calories  334 non-null    object\n",
            " 4   Protein   335 non-null    object\n",
            " 5   Fat       335 non-null    object\n",
            " 6   Sat.Fat   333 non-null    object\n",
            " 7   Fiber     335 non-null    object\n",
            " 8   Carbs     335 non-null    object\n",
            " 9   Category  335 non-null    object\n",
            "dtypes: object(10)\n",
            "memory usage: 26.3+ KB\n"
          ]
        }
      ]
    },
    {
      "cell_type": "code",
      "source": [
        "#Con relacion al cuadro anterior, podemos verificar que a priori existen ciertas variables que deberian tener una calificacion de tipo numerica o flotante,\n",
        "#sin embargo poseen una clasificacion de tipo objeto, para ello realizaremos una exportacion del archivo en formato excel para revisar el porque se da esta situacion.\n",
        "# Premisa: todas las columnas desde \"Grams\" hasta \"Carbs\" deberian ser numericas y/o flotantes, ya que son variables que por definicion son cuantificables.\n",
        "df.to_excel(\"df_nutrients.xlsx\", index=False)"
      ],
      "metadata": {
        "id": "HOHfhAJM7zfQ"
      },
      "execution_count": 281,
      "outputs": []
    },
    {
      "cell_type": "code",
      "source": [
        "#Con base a la descarga del archivo podemos 2 elementos de contaminacion de nuestro Dataframe:\n",
        "# 1. Letras & Caracteres: Existen varias columnas que poseen algunas letras; \"t\", \"a\", \"t´\", \"-\" lo que genera distorsion en la lectura de la información, para ello reemplazaremos dichos valores\n",
        "#por 0 o \"\", y veremos que consistencia mantienen una vez modificada la base.\n",
        "# 2. Separadores: la base original csv, posee elementos de separacion \",\" sin embargo esto genera confunsion, debido a que existen algunos numeros que incluyen \",\" dentro de su notacion,\n",
        "# estos mismos seran reemplazados por \".\" a efectos de evitar errores y/o confunsion dentro de nuestro DF.\n",
        "df2=df\n",
        "df2['Grams'] = df2['Grams'].str.replace(\",\", \".\").astype(float)"
      ],
      "metadata": {
        "id": "L9jse1Gh7LgG"
      },
      "execution_count": 282,
      "outputs": []
    },
    {
      "cell_type": "code",
      "source": [
        "df2['Calories'] = df2['Calories'].replace(\"8-44\",\"8.44\")\n",
        "df2['Calories'] = df2['Calories'].str.replace(\",\", \".\").astype(float)\n",
        "df2[\"Calories\"].mean()"
      ],
      "metadata": {
        "colab": {
          "base_uri": "https://localhost:8080/"
        },
        "id": "rwBmwPCjIsdf",
        "outputId": "88939e3c-2b1c-461f-cb8f-373cff3f6bde"
      },
      "execution_count": 283,
      "outputs": [
        {
          "output_type": "execute_result",
          "data": {
            "text/plain": [
              "177.68903592814374"
            ]
          },
          "metadata": {},
          "execution_count": 283
        }
      ]
    },
    {
      "cell_type": "code",
      "source": [
        "df2['Protein'] = df2['Protein'].replace(\"t\", 0)\n",
        "df2['Protein'] = df2['Protein'].replace(-1, 0)\n",
        "df2['Protein'] = df2['Protein'].str.replace(\",\", \".\").astype(float)\n",
        "df2[\"Protein\"].mean()"
      ],
      "metadata": {
        "colab": {
          "base_uri": "https://localhost:8080/"
        },
        "id": "ROwemO-4CAbe",
        "outputId": "16607397-2ffa-4ae6-a72c-f0189c914a2a"
      },
      "execution_count": 284,
      "outputs": [
        {
          "output_type": "execute_result",
          "data": {
            "text/plain": [
              "9.702702702702704"
            ]
          },
          "metadata": {},
          "execution_count": 284
        }
      ]
    },
    {
      "cell_type": "code",
      "source": [
        "df2['Fat'] = df2['Fat'].replace(\"t\", 0)\n",
        "df2['Fat'] = df2['Fat'].replace(\"t'\", 0)\n",
        "df2['Fat'] = df2['Fat'].str.replace(\",\", \".\").astype(float)\n",
        "df2[\"Fat\"].mean()"
      ],
      "metadata": {
        "colab": {
          "base_uri": "https://localhost:8080/"
        },
        "id": "C_e0x9wBDKnj",
        "outputId": "377b8717-fc8f-4131-e43b-7104357bb17e"
      },
      "execution_count": 285,
      "outputs": [
        {
          "output_type": "execute_result",
          "data": {
            "text/plain": [
              "13.06392694063927"
            ]
          },
          "metadata": {},
          "execution_count": 285
        }
      ]
    },
    {
      "cell_type": "code",
      "source": [
        "df2['Sat.Fat'] = df2['Sat.Fat'].replace(\"t\", 0)\n",
        "df2['Sat.Fat'] = df2['Sat.Fat'].replace(\"\", 0)\n",
        "df2['Sat.Fat'] = df2['Sat.Fat'].str.replace(\",\", \".\").astype(float)\n",
        "df2[\"Sat.Fat\"].mean()"
      ],
      "metadata": {
        "colab": {
          "base_uri": "https://localhost:8080/"
        },
        "id": "u-NZ7E97DoPq",
        "outputId": "57e79ae9-211f-4c6e-8eaf-d6243a0864d0"
      },
      "execution_count": 286,
      "outputs": [
        {
          "output_type": "execute_result",
          "data": {
            "text/plain": [
              "6.7421383647798745"
            ]
          },
          "metadata": {},
          "execution_count": 286
        }
      ]
    },
    {
      "cell_type": "code",
      "source": [
        "df2['Fiber'] = df2['Fiber'].replace(\"t\", 0)\n",
        "df2['Fiber'] = df2['Fiber'].replace(\"a\", 0)\n",
        "df2['Fiber'] = df2['Fiber'].str.replace(\",\", \".\").astype(float)\n",
        "df2[\"Fiber\"].mean()"
      ],
      "metadata": {
        "colab": {
          "base_uri": "https://localhost:8080/"
        },
        "id": "aONMUtzGEPpo",
        "outputId": "a7b15e4f-a9b3-4842-8de1-0491dd344232"
      },
      "execution_count": 287,
      "outputs": [
        {
          "output_type": "execute_result",
          "data": {
            "text/plain": [
              "2.576655844155844"
            ]
          },
          "metadata": {},
          "execution_count": 287
        }
      ]
    },
    {
      "cell_type": "code",
      "source": [
        "df2['Carbs'] = df2['Carbs'].replace(\"t\", 0)\n",
        "df2['Carbs'] = df2['Carbs'].str.replace(\",\", \".\").astype(float)\n",
        "df2[\"Carbs\"].mean()"
      ],
      "metadata": {
        "colab": {
          "base_uri": "https://localhost:8080/"
        },
        "id": "P1T0DGoDEgxn",
        "outputId": "cfcc51b8-bac9-4975-ac66-eb70b243d1ef"
      },
      "execution_count": 288,
      "outputs": [
        {
          "output_type": "execute_result",
          "data": {
            "text/plain": [
              "25.99099378881988"
            ]
          },
          "metadata": {},
          "execution_count": 288
        }
      ]
    },
    {
      "cell_type": "code",
      "source": [
        "# Como podemos ver casi todas las columnas pasaron de una configuracion de tipo \"object\" a \"float\" que es una de las premisas principales definidas anteriormente.\n",
        "df2.info()"
      ],
      "metadata": {
        "colab": {
          "base_uri": "https://localhost:8080/"
        },
        "id": "ol5begdE718O",
        "outputId": "7e248f62-9aea-47a3-9d57-cfb4b57c8cf9"
      },
      "execution_count": 289,
      "outputs": [
        {
          "output_type": "stream",
          "name": "stdout",
          "text": [
            "<class 'pandas.core.frame.DataFrame'>\n",
            "RangeIndex: 335 entries, 0 to 334\n",
            "Data columns (total 10 columns):\n",
            " #   Column    Non-Null Count  Dtype  \n",
            "---  ------    --------------  -----  \n",
            " 0   Food      335 non-null    object \n",
            " 1   Measure   335 non-null    object \n",
            " 2   Grams     335 non-null    float64\n",
            " 3   Calories  334 non-null    float64\n",
            " 4   Protein   296 non-null    float64\n",
            " 5   Fat       219 non-null    float64\n",
            " 6   Sat.Fat   318 non-null    float64\n",
            " 7   Fiber     308 non-null    float64\n",
            " 8   Carbs     322 non-null    float64\n",
            " 9   Category  335 non-null    object \n",
            "dtypes: float64(7), object(3)\n",
            "memory usage: 26.3+ KB\n"
          ]
        }
      ]
    },
    {
      "cell_type": "code",
      "source": [
        "#A continuacion revisaremos la estadistica descriptiva de nuestro DF corregido\n",
        "df2.describe()"
      ],
      "metadata": {
        "colab": {
          "base_uri": "https://localhost:8080/",
          "height": 300
        },
        "id": "8J5nPFzneoQk",
        "outputId": "641d3f44-c3ef-4b25-cd0b-3ac96e771770"
      },
      "execution_count": 290,
      "outputs": [
        {
          "output_type": "execute_result",
          "data": {
            "text/plain": [
              "            Grams    Calories     Protein         Fat     Sat.Fat       Fiber  \\\n",
              "count  335.000000  334.000000  296.000000  219.000000  318.000000  308.000000   \n",
              "mean   138.980355  177.689036    9.702703   13.063927    6.742138    2.576656   \n",
              "std    119.991933  155.901355   18.575895   23.262671   18.896435   16.729786   \n",
              "min      1.419000    0.000000   -1.000000    0.000000    0.000000    0.000000   \n",
              "25%     60.000000   72.750000    1.000000    1.000000    0.000000    0.000000   \n",
              "50%    108.000000  129.000000    4.000000    8.000000    0.000000    0.400000   \n",
              "75%    200.000000  245.000000   13.000000   14.000000    8.000000    1.200000   \n",
              "max    984.000000  992.000000  232.000000  233.000000  234.000000  235.000000   \n",
              "\n",
              "            Carbs  \n",
              "count  322.000000  \n",
              "mean    25.990994  \n",
              "std     36.189993  \n",
              "min      0.000000  \n",
              "25%      6.000000  \n",
              "50%     15.000000  \n",
              "75%     32.000000  \n",
              "max    236.000000  "
            ],
            "text/html": [
              "\n",
              "  <div id=\"df-32d69ae2-5f0b-42a1-8a63-f10248bee148\">\n",
              "    <div class=\"colab-df-container\">\n",
              "      <div>\n",
              "<style scoped>\n",
              "    .dataframe tbody tr th:only-of-type {\n",
              "        vertical-align: middle;\n",
              "    }\n",
              "\n",
              "    .dataframe tbody tr th {\n",
              "        vertical-align: top;\n",
              "    }\n",
              "\n",
              "    .dataframe thead th {\n",
              "        text-align: right;\n",
              "    }\n",
              "</style>\n",
              "<table border=\"1\" class=\"dataframe\">\n",
              "  <thead>\n",
              "    <tr style=\"text-align: right;\">\n",
              "      <th></th>\n",
              "      <th>Grams</th>\n",
              "      <th>Calories</th>\n",
              "      <th>Protein</th>\n",
              "      <th>Fat</th>\n",
              "      <th>Sat.Fat</th>\n",
              "      <th>Fiber</th>\n",
              "      <th>Carbs</th>\n",
              "    </tr>\n",
              "  </thead>\n",
              "  <tbody>\n",
              "    <tr>\n",
              "      <th>count</th>\n",
              "      <td>335.000000</td>\n",
              "      <td>334.000000</td>\n",
              "      <td>296.000000</td>\n",
              "      <td>219.000000</td>\n",
              "      <td>318.000000</td>\n",
              "      <td>308.000000</td>\n",
              "      <td>322.000000</td>\n",
              "    </tr>\n",
              "    <tr>\n",
              "      <th>mean</th>\n",
              "      <td>138.980355</td>\n",
              "      <td>177.689036</td>\n",
              "      <td>9.702703</td>\n",
              "      <td>13.063927</td>\n",
              "      <td>6.742138</td>\n",
              "      <td>2.576656</td>\n",
              "      <td>25.990994</td>\n",
              "    </tr>\n",
              "    <tr>\n",
              "      <th>std</th>\n",
              "      <td>119.991933</td>\n",
              "      <td>155.901355</td>\n",
              "      <td>18.575895</td>\n",
              "      <td>23.262671</td>\n",
              "      <td>18.896435</td>\n",
              "      <td>16.729786</td>\n",
              "      <td>36.189993</td>\n",
              "    </tr>\n",
              "    <tr>\n",
              "      <th>min</th>\n",
              "      <td>1.419000</td>\n",
              "      <td>0.000000</td>\n",
              "      <td>-1.000000</td>\n",
              "      <td>0.000000</td>\n",
              "      <td>0.000000</td>\n",
              "      <td>0.000000</td>\n",
              "      <td>0.000000</td>\n",
              "    </tr>\n",
              "    <tr>\n",
              "      <th>25%</th>\n",
              "      <td>60.000000</td>\n",
              "      <td>72.750000</td>\n",
              "      <td>1.000000</td>\n",
              "      <td>1.000000</td>\n",
              "      <td>0.000000</td>\n",
              "      <td>0.000000</td>\n",
              "      <td>6.000000</td>\n",
              "    </tr>\n",
              "    <tr>\n",
              "      <th>50%</th>\n",
              "      <td>108.000000</td>\n",
              "      <td>129.000000</td>\n",
              "      <td>4.000000</td>\n",
              "      <td>8.000000</td>\n",
              "      <td>0.000000</td>\n",
              "      <td>0.400000</td>\n",
              "      <td>15.000000</td>\n",
              "    </tr>\n",
              "    <tr>\n",
              "      <th>75%</th>\n",
              "      <td>200.000000</td>\n",
              "      <td>245.000000</td>\n",
              "      <td>13.000000</td>\n",
              "      <td>14.000000</td>\n",
              "      <td>8.000000</td>\n",
              "      <td>1.200000</td>\n",
              "      <td>32.000000</td>\n",
              "    </tr>\n",
              "    <tr>\n",
              "      <th>max</th>\n",
              "      <td>984.000000</td>\n",
              "      <td>992.000000</td>\n",
              "      <td>232.000000</td>\n",
              "      <td>233.000000</td>\n",
              "      <td>234.000000</td>\n",
              "      <td>235.000000</td>\n",
              "      <td>236.000000</td>\n",
              "    </tr>\n",
              "  </tbody>\n",
              "</table>\n",
              "</div>\n",
              "      <button class=\"colab-df-convert\" onclick=\"convertToInteractive('df-32d69ae2-5f0b-42a1-8a63-f10248bee148')\"\n",
              "              title=\"Convert this dataframe to an interactive table.\"\n",
              "              style=\"display:none;\">\n",
              "        \n",
              "  <svg xmlns=\"http://www.w3.org/2000/svg\" height=\"24px\"viewBox=\"0 0 24 24\"\n",
              "       width=\"24px\">\n",
              "    <path d=\"M0 0h24v24H0V0z\" fill=\"none\"/>\n",
              "    <path d=\"M18.56 5.44l.94 2.06.94-2.06 2.06-.94-2.06-.94-.94-2.06-.94 2.06-2.06.94zm-11 1L8.5 8.5l.94-2.06 2.06-.94-2.06-.94L8.5 2.5l-.94 2.06-2.06.94zm10 10l.94 2.06.94-2.06 2.06-.94-2.06-.94-.94-2.06-.94 2.06-2.06.94z\"/><path d=\"M17.41 7.96l-1.37-1.37c-.4-.4-.92-.59-1.43-.59-.52 0-1.04.2-1.43.59L10.3 9.45l-7.72 7.72c-.78.78-.78 2.05 0 2.83L4 21.41c.39.39.9.59 1.41.59.51 0 1.02-.2 1.41-.59l7.78-7.78 2.81-2.81c.8-.78.8-2.07 0-2.86zM5.41 20L4 18.59l7.72-7.72 1.47 1.35L5.41 20z\"/>\n",
              "  </svg>\n",
              "      </button>\n",
              "      \n",
              "  <style>\n",
              "    .colab-df-container {\n",
              "      display:flex;\n",
              "      flex-wrap:wrap;\n",
              "      gap: 12px;\n",
              "    }\n",
              "\n",
              "    .colab-df-convert {\n",
              "      background-color: #E8F0FE;\n",
              "      border: none;\n",
              "      border-radius: 50%;\n",
              "      cursor: pointer;\n",
              "      display: none;\n",
              "      fill: #1967D2;\n",
              "      height: 32px;\n",
              "      padding: 0 0 0 0;\n",
              "      width: 32px;\n",
              "    }\n",
              "\n",
              "    .colab-df-convert:hover {\n",
              "      background-color: #E2EBFA;\n",
              "      box-shadow: 0px 1px 2px rgba(60, 64, 67, 0.3), 0px 1px 3px 1px rgba(60, 64, 67, 0.15);\n",
              "      fill: #174EA6;\n",
              "    }\n",
              "\n",
              "    [theme=dark] .colab-df-convert {\n",
              "      background-color: #3B4455;\n",
              "      fill: #D2E3FC;\n",
              "    }\n",
              "\n",
              "    [theme=dark] .colab-df-convert:hover {\n",
              "      background-color: #434B5C;\n",
              "      box-shadow: 0px 1px 3px 1px rgba(0, 0, 0, 0.15);\n",
              "      filter: drop-shadow(0px 1px 2px rgba(0, 0, 0, 0.3));\n",
              "      fill: #FFFFFF;\n",
              "    }\n",
              "  </style>\n",
              "\n",
              "      <script>\n",
              "        const buttonEl =\n",
              "          document.querySelector('#df-32d69ae2-5f0b-42a1-8a63-f10248bee148 button.colab-df-convert');\n",
              "        buttonEl.style.display =\n",
              "          google.colab.kernel.accessAllowed ? 'block' : 'none';\n",
              "\n",
              "        async function convertToInteractive(key) {\n",
              "          const element = document.querySelector('#df-32d69ae2-5f0b-42a1-8a63-f10248bee148');\n",
              "          const dataTable =\n",
              "            await google.colab.kernel.invokeFunction('convertToInteractive',\n",
              "                                                     [key], {});\n",
              "          if (!dataTable) return;\n",
              "\n",
              "          const docLinkHtml = 'Like what you see? Visit the ' +\n",
              "            '<a target=\"_blank\" href=https://colab.research.google.com/notebooks/data_table.ipynb>data table notebook</a>'\n",
              "            + ' to learn more about interactive tables.';\n",
              "          element.innerHTML = '';\n",
              "          dataTable['output_type'] = 'display_data';\n",
              "          await google.colab.output.renderOutput(dataTable, element);\n",
              "          const docLink = document.createElement('div');\n",
              "          docLink.innerHTML = docLinkHtml;\n",
              "          element.appendChild(docLink);\n",
              "        }\n",
              "      </script>\n",
              "    </div>\n",
              "  </div>\n",
              "  "
            ]
          },
          "metadata": {},
          "execution_count": 290
        }
      ]
    },
    {
      "cell_type": "code",
      "source": [
        "#Como ya hemos corregido elementos de formato y ciertas nomenclaturas incorrectas, ahora revisaremos la consistencia general de los datos\n",
        "df2.to_excel(\"df_nutrientsv2.xlsx\", index=False)"
      ],
      "metadata": {
        "id": "FS1_yYmWfbES"
      },
      "execution_count": 291,
      "outputs": []
    },
    {
      "cell_type": "code",
      "source": [
        "#A continuacion procederedemos a realizar ciertos cambios que a priori tanto por el tipo de comida y medida, poseen elementos de gramos y calories subvaluadas (en base a valores publicados en google)\n",
        "# Por otra parte no pueden existir elementos negativos en las columnas valoricas(caso de proteina), debido a que hablamos de nutrientes (solo aplican valores positivos)\n",
        "df2['Grams'] = df2['Grams'].replace(1.419,1419)\n",
        "df2['Calories'] = df2['Calories'].replace(1.373,1373)\n",
        "df2['Calories'] = df2['Calories'].replace(1.225,1225)\n",
        "df2['Protein'] = df2['Protein'].replace(-1,0)\n",
        "df2.describe()"
      ],
      "metadata": {
        "colab": {
          "base_uri": "https://localhost:8080/",
          "height": 300
        },
        "id": "zT-lo4M1iiZI",
        "outputId": "5042c92d-4d02-4c9e-977c-3a1eb4229cca"
      },
      "execution_count": 306,
      "outputs": [
        {
          "output_type": "execute_result",
          "data": {
            "text/plain": [
              "             Grams     Calories     Protein         Fat     Sat.Fat  \\\n",
              "count   335.000000   334.000000  296.000000  219.000000  318.000000   \n",
              "mean    143.211940   185.459701    9.706081   13.063927    6.742138   \n",
              "std     138.668626   177.882744   18.574032   23.262671   18.896435   \n",
              "min      11.000000     0.000000    0.000000    0.000000    0.000000   \n",
              "25%      60.000000    75.000000    1.000000    1.000000    0.000000   \n",
              "50%     108.000000   130.000000    4.000000    8.000000    0.000000   \n",
              "75%     200.000000   248.750000   13.000000   14.000000    8.000000   \n",
              "max    1419.000000  1373.000000  232.000000  233.000000  234.000000   \n",
              "\n",
              "            Fiber       Carbs  \n",
              "count  308.000000  322.000000  \n",
              "mean     2.576656   25.990994  \n",
              "std     16.729786   36.189993  \n",
              "min      0.000000    0.000000  \n",
              "25%      0.000000    6.000000  \n",
              "50%      0.400000   15.000000  \n",
              "75%      1.200000   32.000000  \n",
              "max    235.000000  236.000000  "
            ],
            "text/html": [
              "\n",
              "  <div id=\"df-aa9f92f9-f991-45d1-b0ef-d50e63a61cae\">\n",
              "    <div class=\"colab-df-container\">\n",
              "      <div>\n",
              "<style scoped>\n",
              "    .dataframe tbody tr th:only-of-type {\n",
              "        vertical-align: middle;\n",
              "    }\n",
              "\n",
              "    .dataframe tbody tr th {\n",
              "        vertical-align: top;\n",
              "    }\n",
              "\n",
              "    .dataframe thead th {\n",
              "        text-align: right;\n",
              "    }\n",
              "</style>\n",
              "<table border=\"1\" class=\"dataframe\">\n",
              "  <thead>\n",
              "    <tr style=\"text-align: right;\">\n",
              "      <th></th>\n",
              "      <th>Grams</th>\n",
              "      <th>Calories</th>\n",
              "      <th>Protein</th>\n",
              "      <th>Fat</th>\n",
              "      <th>Sat.Fat</th>\n",
              "      <th>Fiber</th>\n",
              "      <th>Carbs</th>\n",
              "    </tr>\n",
              "  </thead>\n",
              "  <tbody>\n",
              "    <tr>\n",
              "      <th>count</th>\n",
              "      <td>335.000000</td>\n",
              "      <td>334.000000</td>\n",
              "      <td>296.000000</td>\n",
              "      <td>219.000000</td>\n",
              "      <td>318.000000</td>\n",
              "      <td>308.000000</td>\n",
              "      <td>322.000000</td>\n",
              "    </tr>\n",
              "    <tr>\n",
              "      <th>mean</th>\n",
              "      <td>143.211940</td>\n",
              "      <td>185.459701</td>\n",
              "      <td>9.706081</td>\n",
              "      <td>13.063927</td>\n",
              "      <td>6.742138</td>\n",
              "      <td>2.576656</td>\n",
              "      <td>25.990994</td>\n",
              "    </tr>\n",
              "    <tr>\n",
              "      <th>std</th>\n",
              "      <td>138.668626</td>\n",
              "      <td>177.882744</td>\n",
              "      <td>18.574032</td>\n",
              "      <td>23.262671</td>\n",
              "      <td>18.896435</td>\n",
              "      <td>16.729786</td>\n",
              "      <td>36.189993</td>\n",
              "    </tr>\n",
              "    <tr>\n",
              "      <th>min</th>\n",
              "      <td>11.000000</td>\n",
              "      <td>0.000000</td>\n",
              "      <td>0.000000</td>\n",
              "      <td>0.000000</td>\n",
              "      <td>0.000000</td>\n",
              "      <td>0.000000</td>\n",
              "      <td>0.000000</td>\n",
              "    </tr>\n",
              "    <tr>\n",
              "      <th>25%</th>\n",
              "      <td>60.000000</td>\n",
              "      <td>75.000000</td>\n",
              "      <td>1.000000</td>\n",
              "      <td>1.000000</td>\n",
              "      <td>0.000000</td>\n",
              "      <td>0.000000</td>\n",
              "      <td>6.000000</td>\n",
              "    </tr>\n",
              "    <tr>\n",
              "      <th>50%</th>\n",
              "      <td>108.000000</td>\n",
              "      <td>130.000000</td>\n",
              "      <td>4.000000</td>\n",
              "      <td>8.000000</td>\n",
              "      <td>0.000000</td>\n",
              "      <td>0.400000</td>\n",
              "      <td>15.000000</td>\n",
              "    </tr>\n",
              "    <tr>\n",
              "      <th>75%</th>\n",
              "      <td>200.000000</td>\n",
              "      <td>248.750000</td>\n",
              "      <td>13.000000</td>\n",
              "      <td>14.000000</td>\n",
              "      <td>8.000000</td>\n",
              "      <td>1.200000</td>\n",
              "      <td>32.000000</td>\n",
              "    </tr>\n",
              "    <tr>\n",
              "      <th>max</th>\n",
              "      <td>1419.000000</td>\n",
              "      <td>1373.000000</td>\n",
              "      <td>232.000000</td>\n",
              "      <td>233.000000</td>\n",
              "      <td>234.000000</td>\n",
              "      <td>235.000000</td>\n",
              "      <td>236.000000</td>\n",
              "    </tr>\n",
              "  </tbody>\n",
              "</table>\n",
              "</div>\n",
              "      <button class=\"colab-df-convert\" onclick=\"convertToInteractive('df-aa9f92f9-f991-45d1-b0ef-d50e63a61cae')\"\n",
              "              title=\"Convert this dataframe to an interactive table.\"\n",
              "              style=\"display:none;\">\n",
              "        \n",
              "  <svg xmlns=\"http://www.w3.org/2000/svg\" height=\"24px\"viewBox=\"0 0 24 24\"\n",
              "       width=\"24px\">\n",
              "    <path d=\"M0 0h24v24H0V0z\" fill=\"none\"/>\n",
              "    <path d=\"M18.56 5.44l.94 2.06.94-2.06 2.06-.94-2.06-.94-.94-2.06-.94 2.06-2.06.94zm-11 1L8.5 8.5l.94-2.06 2.06-.94-2.06-.94L8.5 2.5l-.94 2.06-2.06.94zm10 10l.94 2.06.94-2.06 2.06-.94-2.06-.94-.94-2.06-.94 2.06-2.06.94z\"/><path d=\"M17.41 7.96l-1.37-1.37c-.4-.4-.92-.59-1.43-.59-.52 0-1.04.2-1.43.59L10.3 9.45l-7.72 7.72c-.78.78-.78 2.05 0 2.83L4 21.41c.39.39.9.59 1.41.59.51 0 1.02-.2 1.41-.59l7.78-7.78 2.81-2.81c.8-.78.8-2.07 0-2.86zM5.41 20L4 18.59l7.72-7.72 1.47 1.35L5.41 20z\"/>\n",
              "  </svg>\n",
              "      </button>\n",
              "      \n",
              "  <style>\n",
              "    .colab-df-container {\n",
              "      display:flex;\n",
              "      flex-wrap:wrap;\n",
              "      gap: 12px;\n",
              "    }\n",
              "\n",
              "    .colab-df-convert {\n",
              "      background-color: #E8F0FE;\n",
              "      border: none;\n",
              "      border-radius: 50%;\n",
              "      cursor: pointer;\n",
              "      display: none;\n",
              "      fill: #1967D2;\n",
              "      height: 32px;\n",
              "      padding: 0 0 0 0;\n",
              "      width: 32px;\n",
              "    }\n",
              "\n",
              "    .colab-df-convert:hover {\n",
              "      background-color: #E2EBFA;\n",
              "      box-shadow: 0px 1px 2px rgba(60, 64, 67, 0.3), 0px 1px 3px 1px rgba(60, 64, 67, 0.15);\n",
              "      fill: #174EA6;\n",
              "    }\n",
              "\n",
              "    [theme=dark] .colab-df-convert {\n",
              "      background-color: #3B4455;\n",
              "      fill: #D2E3FC;\n",
              "    }\n",
              "\n",
              "    [theme=dark] .colab-df-convert:hover {\n",
              "      background-color: #434B5C;\n",
              "      box-shadow: 0px 1px 3px 1px rgba(0, 0, 0, 0.15);\n",
              "      filter: drop-shadow(0px 1px 2px rgba(0, 0, 0, 0.3));\n",
              "      fill: #FFFFFF;\n",
              "    }\n",
              "  </style>\n",
              "\n",
              "      <script>\n",
              "        const buttonEl =\n",
              "          document.querySelector('#df-aa9f92f9-f991-45d1-b0ef-d50e63a61cae button.colab-df-convert');\n",
              "        buttonEl.style.display =\n",
              "          google.colab.kernel.accessAllowed ? 'block' : 'none';\n",
              "\n",
              "        async function convertToInteractive(key) {\n",
              "          const element = document.querySelector('#df-aa9f92f9-f991-45d1-b0ef-d50e63a61cae');\n",
              "          const dataTable =\n",
              "            await google.colab.kernel.invokeFunction('convertToInteractive',\n",
              "                                                     [key], {});\n",
              "          if (!dataTable) return;\n",
              "\n",
              "          const docLinkHtml = 'Like what you see? Visit the ' +\n",
              "            '<a target=\"_blank\" href=https://colab.research.google.com/notebooks/data_table.ipynb>data table notebook</a>'\n",
              "            + ' to learn more about interactive tables.';\n",
              "          element.innerHTML = '';\n",
              "          dataTable['output_type'] = 'display_data';\n",
              "          await google.colab.output.renderOutput(dataTable, element);\n",
              "          const docLink = document.createElement('div');\n",
              "          docLink.innerHTML = docLinkHtml;\n",
              "          element.appendChild(docLink);\n",
              "        }\n",
              "      </script>\n",
              "    </div>\n",
              "  </div>\n",
              "  "
            ]
          },
          "metadata": {},
          "execution_count": 306
        }
      ]
    },
    {
      "cell_type": "markdown",
      "source": [
        "2. Analisis de Variables Claves y Tendencia"
      ],
      "metadata": {
        "id": "cEHUhl1Rm4VK"
      }
    },
    {
      "cell_type": "code",
      "source": [
        "#A continuacion crearemos una nueva variable que nos permitira analizar el nivel de calorias por categoria de manera comparable, por lo cual analizaremos el nivel de calorias para cada producto en un nivel de 1.000 gramos\n",
        "df3=df2\n",
        "df3[\"Cal_Rate_1000gm\"]= (1000/df3[\"Grams\"])*df3[\"Calories\"]\n",
        "df3[\"Cal_Rate_1000gm\"].mean()"
      ],
      "metadata": {
        "colab": {
          "base_uri": "https://localhost:8080/"
        },
        "id": "R2pYQ52tsat-",
        "outputId": "0c0facea-448b-4051-d485-a9f3c508d079"
      },
      "execution_count": 320,
      "outputs": [
        {
          "output_type": "execute_result",
          "data": {
            "text/plain": [
              "2029.875040292925"
            ]
          },
          "metadata": {},
          "execution_count": 320
        }
      ]
    },
    {
      "cell_type": "code",
      "source": [
        "df3=df.groupby(['Category'])[['Cal_Rate_1000gm']].mean().reset_index().sort_values(by=\"Cal_Rate_1000gm\",ascending=False)\n",
        "\n",
        "import matplotlib.pyplot as plt\n",
        "from numpy import arange\n",
        "from numpy.random import randint\n",
        "\n",
        "plt.style.use('seaborn')\n",
        "\n",
        "fig1 = plt.figure(dpi=100)\n",
        "fig1.suptitle(\"Promedio de Calorias por Categoria cada 1.000 gramos\", fontsize=14, fontweight=\"bold\", )\n",
        "\n",
        "ax1 = fig1.add_subplot(111)\n",
        "sep = 0.3\n",
        "ax1.bar(df3[\"Category\"],df3[\"Cal_Rate_1000gm\"], sep, color='orchid')\n",
        "\n",
        "plt.xticks(rotation=90)\n",
        "plt.ylabel(\"Categorias de Alimentos\")\n",
        "plt.xlabel(\"Nivel de Calorias cada 1.000 gramos\")\n",
        "plt.show()"
      ],
      "metadata": {
        "colab": {
          "base_uri": "https://localhost:8080/",
          "height": 732
        },
        "id": "vBbtmBw3oLT2",
        "outputId": "1c4d94e7-27d9-4456-b1a7-68851be640b7"
      },
      "execution_count": 323,
      "outputs": [
        {
          "output_type": "display_data",
          "data": {
            "text/plain": [
              "<Figure size 800x550 with 1 Axes>"
            ],
            "image/png": "[encoded data removed]"
          },
          "metadata": {}
        }
      ]
    },
    {
      "cell_type": "code",
      "source": [
        ""
      ],
      "metadata": {
        "id": "LqdKkD0nuW4Y"
      },
      "execution_count": null,
      "outputs": []
    },
    {
      "cell_type": "code",
      "source": [
        ""
      ],
      "metadata": {
        "id": "XDhBk2sBuNmb"
      },
      "execution_count": null,
      "outputs": []
    },
    {
      "cell_type": "code",
      "source": [
        ""
      ],
      "metadata": {
        "id": "V57_dWOuuGop"
      },
      "execution_count": null,
      "outputs": []
    },
    {
      "cell_type": "code",
      "source": [
        ""
      ],
      "metadata": {
        "id": "UBixeGP1tN7B"
      },
      "execution_count": null,
      "outputs": []
    },
    {
      "cell_type": "code",
      "source": [
        ""
      ],
      "metadata": {
        "id": "itiCnzLwtEvB"
      },
      "execution_count": null,
      "outputs": []
    },
    {
      "cell_type": "code",
      "source": [
        ""
      ],
      "metadata": {
        "id": "p6zOBT44tBH0"
      },
      "execution_count": null,
      "outputs": []
    },
    {
      "cell_type": "code",
      "source": [
        ""
      ],
      "metadata": {
        "id": "I8J0hoMZqm-s"
      },
      "execution_count": null,
      "outputs": []
    },
    {
      "cell_type": "code",
      "source": [
        ""
      ],
      "metadata": {
        "id": "fq04pNJAqgbQ"
      },
      "execution_count": null,
      "outputs": []
    },
    {
      "cell_type": "code",
      "source": [
        ""
      ],
      "metadata": {
        "id": "bEx_9m37qarM"
      },
      "execution_count": null,
      "outputs": []
    },
    {
      "cell_type": "code",
      "source": [
        ""
      ],
      "metadata": {
        "id": "kdQ7bzDHp-QF"
      },
      "execution_count": null,
      "outputs": []
    },
    {
      "cell_type": "code",
      "source": [
        ""
      ],
      "metadata": {
        "id": "5NAByhwKp188"
      },
      "execution_count": null,
      "outputs": []
    },
    {
      "cell_type": "code",
      "source": [
        ""
      ],
      "metadata": {
        "id": "3Fg8cQ0UpeAA"
      },
      "execution_count": null,
      "outputs": []
    },
    {
      "cell_type": "code",
      "source": [
        ""
      ],
      "metadata": {
        "id": "zCA4dgVcpV_3"
      },
      "execution_count": null,
      "outputs": []
    },
    {
      "cell_type": "code",
      "source": [
        ""
      ],
      "metadata": {
        "id": "N5FxERcipT4t"
      },
      "execution_count": null,
      "outputs": []
    },
    {
      "cell_type": "code",
      "source": [
        ""
      ],
      "metadata": {
        "id": "ZonwGqxEpC1i"
      },
      "execution_count": null,
      "outputs": []
    }
  ]
}
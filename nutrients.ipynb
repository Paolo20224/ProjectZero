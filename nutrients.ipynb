{
  "nbformat": 4,
  "nbformat_minor": 0,
  "metadata": {
    "colab": {
      "name": "nutrients.ipynb",
      "provenance": [],
      "authorship_tag": "ABX9TyMoROwe4ZMIMH8nRDMyfEZI",
      "include_colab_link": true
    },
    "kernelspec": {
      "name": "python3",
      "display_name": "Python 3"
    },
    "language_info": {
      "name": "python"
    }
  },
  "cells": [
    {
      "cell_type": "markdown",
      "metadata": {
        "id": "view-in-github",
        "colab_type": "text"
      },
      "source": [
        "<a href=\"https://colab.research.google.com/github/Paolo20224/ProjectZero/blob/main/nutrients.ipynb\" target=\"_parent\"><img src=\"https://colab.research.google.com/assets/colab-badge.svg\" alt=\"Open In Colab\"/></a>"
      ]
    },
    {
      "cell_type": "code",
      "execution_count": 2,
      "metadata": {
        "id": "-9CTwMX56CNJ"
      },
      "outputs": [],
      "source": [
        "# Realizar el analisis exploratorio de data (duplicados, nulos, columnas erroneas). \n",
        "# Luego realizar 4 gráficos con sus correspondientes explicaciones, tengan en cuenta la estetica de las ilustraciones.\n",
        "# Bajo su concepto, generar una salida OUTCOME de clasificación, a criterio de cada uno, y una columna PREDICTION, aleatoria con lo que seria el resultado de un modelo. \n",
        "# Generar la matriz de confusión, calcular el RECALL. \n",
        "# Generar una presentación con 4 slides, titulo, objetivos, metodologia, graficos y 2 conclusiones.\n",
        "# enviar a jortiz@codingdojo.cl"
      ]
    },
    {
      "cell_type": "code",
      "source": [
        "#Iniciamos el análisis de nuestro Dataframe, incorporando nuestra información bruta en Colab\n",
        "import pandas as pd\n",
        "filename = \"/content/nutrients_csvfile.csv\"\n",
        "df = pd.read_csv(filename)"
      ],
      "metadata": {
        "id": "1IWyNhOQ7FHR"
      },
      "execution_count": 3,
      "outputs": []
    },
    {
      "cell_type": "code",
      "source": [
        "#Una vez cargada la informacion, verificamos los tipos de datos de cada columna\n",
        "df.info()"
      ],
      "metadata": {
        "colab": {
          "base_uri": "https://localhost:8080/"
        },
        "id": "4cG3umUK7OYc",
        "outputId": "790f43aa-b35a-4a33-90f6-7311db2c51a9"
      },
      "execution_count": 4,
      "outputs": [
        {
          "output_type": "stream",
          "name": "stdout",
          "text": [
            "<class 'pandas.core.frame.DataFrame'>\n",
            "RangeIndex: 335 entries, 0 to 334\n",
            "Data columns (total 10 columns):\n",
            " #   Column    Non-Null Count  Dtype \n",
            "---  ------    --------------  ----- \n",
            " 0   Food      335 non-null    object\n",
            " 1   Measure   335 non-null    object\n",
            " 2   Grams     335 non-null    object\n",
            " 3   Calories  334 non-null    object\n",
            " 4   Protein   335 non-null    object\n",
            " 5   Fat       335 non-null    object\n",
            " 6   Sat.Fat   333 non-null    object\n",
            " 7   Fiber     335 non-null    object\n",
            " 8   Carbs     335 non-null    object\n",
            " 9   Category  335 non-null    object\n",
            "dtypes: object(10)\n",
            "memory usage: 26.3+ KB\n"
          ]
        }
      ]
    },
    {
      "cell_type": "code",
      "source": [
        "#En el paso anterior logramos divisar que existe un valor nulo para calorias, el cual revisaremos a continuacion.\n",
        "#Para poder tener un analisis superficial de la informacion, revisaremos los primeros 5 datos contenidos en el archivo\n",
        "df.head(5)"
      ],
      "metadata": {
        "colab": {
          "base_uri": "https://localhost:8080/",
          "height": 206
        },
        "id": "IzN_ERfP7Qt-",
        "outputId": "0850eb51-9e74-451f-f83d-1f2f3b6b136e"
      },
      "execution_count": 5,
      "outputs": [
        {
          "output_type": "execute_result",
          "data": {
            "text/plain": [
              "                    Food Measure  Grams Calories Protein Fat Sat.Fat Fiber  \\\n",
              "0             Cows' milk   1 qt.    976      660      32  40      36     0   \n",
              "1              Milk skim   1 qt.    984      360      36   t       t     0   \n",
              "2             Buttermilk   1 cup    246      127       9   5       4     0   \n",
              "3  Evaporated, undiluted   1 cup    252      345      16  20      18     0   \n",
              "4         Fortified milk  6 cups  1,419    1,373      89  42      23   1.4   \n",
              "\n",
              "  Carbs        Category  \n",
              "0    48  Dairy products  \n",
              "1    52  Dairy products  \n",
              "2    13  Dairy products  \n",
              "3    24  Dairy products  \n",
              "4   119  Dairy products  "
            ],
            "text/html": [
              "\n",
              "  <div id=\"df-159330f5-2945-4774-bab0-d586adbc9d5a\">\n",
              "    <div class=\"colab-df-container\">\n",
              "      <div>\n",
              "<style scoped>\n",
              "    .dataframe tbody tr th:only-of-type {\n",
              "        vertical-align: middle;\n",
              "    }\n",
              "\n",
              "    .dataframe tbody tr th {\n",
              "        vertical-align: top;\n",
              "    }\n",
              "\n",
              "    .dataframe thead th {\n",
              "        text-align: right;\n",
              "    }\n",
              "</style>\n",
              "<table border=\"1\" class=\"dataframe\">\n",
              "  <thead>\n",
              "    <tr style=\"text-align: right;\">\n",
              "      <th></th>\n",
              "      <th>Food</th>\n",
              "      <th>Measure</th>\n",
              "      <th>Grams</th>\n",
              "      <th>Calories</th>\n",
              "      <th>Protein</th>\n",
              "      <th>Fat</th>\n",
              "      <th>Sat.Fat</th>\n",
              "      <th>Fiber</th>\n",
              "      <th>Carbs</th>\n",
              "      <th>Category</th>\n",
              "    </tr>\n",
              "  </thead>\n",
              "  <tbody>\n",
              "    <tr>\n",
              "      <th>0</th>\n",
              "      <td>Cows' milk</td>\n",
              "      <td>1 qt.</td>\n",
              "      <td>976</td>\n",
              "      <td>660</td>\n",
              "      <td>32</td>\n",
              "      <td>40</td>\n",
              "      <td>36</td>\n",
              "      <td>0</td>\n",
              "      <td>48</td>\n",
              "      <td>Dairy products</td>\n",
              "    </tr>\n",
              "    <tr>\n",
              "      <th>1</th>\n",
              "      <td>Milk skim</td>\n",
              "      <td>1 qt.</td>\n",
              "      <td>984</td>\n",
              "      <td>360</td>\n",
              "      <td>36</td>\n",
              "      <td>t</td>\n",
              "      <td>t</td>\n",
              "      <td>0</td>\n",
              "      <td>52</td>\n",
              "      <td>Dairy products</td>\n",
              "    </tr>\n",
              "    <tr>\n",
              "      <th>2</th>\n",
              "      <td>Buttermilk</td>\n",
              "      <td>1 cup</td>\n",
              "      <td>246</td>\n",
              "      <td>127</td>\n",
              "      <td>9</td>\n",
              "      <td>5</td>\n",
              "      <td>4</td>\n",
              "      <td>0</td>\n",
              "      <td>13</td>\n",
              "      <td>Dairy products</td>\n",
              "    </tr>\n",
              "    <tr>\n",
              "      <th>3</th>\n",
              "      <td>Evaporated, undiluted</td>\n",
              "      <td>1 cup</td>\n",
              "      <td>252</td>\n",
              "      <td>345</td>\n",
              "      <td>16</td>\n",
              "      <td>20</td>\n",
              "      <td>18</td>\n",
              "      <td>0</td>\n",
              "      <td>24</td>\n",
              "      <td>Dairy products</td>\n",
              "    </tr>\n",
              "    <tr>\n",
              "      <th>4</th>\n",
              "      <td>Fortified milk</td>\n",
              "      <td>6 cups</td>\n",
              "      <td>1,419</td>\n",
              "      <td>1,373</td>\n",
              "      <td>89</td>\n",
              "      <td>42</td>\n",
              "      <td>23</td>\n",
              "      <td>1.4</td>\n",
              "      <td>119</td>\n",
              "      <td>Dairy products</td>\n",
              "    </tr>\n",
              "  </tbody>\n",
              "</table>\n",
              "</div>\n",
              "      <button class=\"colab-df-convert\" onclick=\"convertToInteractive('df-159330f5-2945-4774-bab0-d586adbc9d5a')\"\n",
              "              title=\"Convert this dataframe to an interactive table.\"\n",
              "              style=\"display:none;\">\n",
              "        \n",
              "  <svg xmlns=\"http://www.w3.org/2000/svg\" height=\"24px\"viewBox=\"0 0 24 24\"\n",
              "       width=\"24px\">\n",
              "    <path d=\"M0 0h24v24H0V0z\" fill=\"none\"/>\n",
              "    <path d=\"M18.56 5.44l.94 2.06.94-2.06 2.06-.94-2.06-.94-.94-2.06-.94 2.06-2.06.94zm-11 1L8.5 8.5l.94-2.06 2.06-.94-2.06-.94L8.5 2.5l-.94 2.06-2.06.94zm10 10l.94 2.06.94-2.06 2.06-.94-2.06-.94-.94-2.06-.94 2.06-2.06.94z\"/><path d=\"M17.41 7.96l-1.37-1.37c-.4-.4-.92-.59-1.43-.59-.52 0-1.04.2-1.43.59L10.3 9.45l-7.72 7.72c-.78.78-.78 2.05 0 2.83L4 21.41c.39.39.9.59 1.41.59.51 0 1.02-.2 1.41-.59l7.78-7.78 2.81-2.81c.8-.78.8-2.07 0-2.86zM5.41 20L4 18.59l7.72-7.72 1.47 1.35L5.41 20z\"/>\n",
              "  </svg>\n",
              "      </button>\n",
              "      \n",
              "  <style>\n",
              "    .colab-df-container {\n",
              "      display:flex;\n",
              "      flex-wrap:wrap;\n",
              "      gap: 12px;\n",
              "    }\n",
              "\n",
              "    .colab-df-convert {\n",
              "      background-color: #E8F0FE;\n",
              "      border: none;\n",
              "      border-radius: 50%;\n",
              "      cursor: pointer;\n",
              "      display: none;\n",
              "      fill: #1967D2;\n",
              "      height: 32px;\n",
              "      padding: 0 0 0 0;\n",
              "      width: 32px;\n",
              "    }\n",
              "\n",
              "    .colab-df-convert:hover {\n",
              "      background-color: #E2EBFA;\n",
              "      box-shadow: 0px 1px 2px rgba(60, 64, 67, 0.3), 0px 1px 3px 1px rgba(60, 64, 67, 0.15);\n",
              "      fill: #174EA6;\n",
              "    }\n",
              "\n",
              "    [theme=dark] .colab-df-convert {\n",
              "      background-color: #3B4455;\n",
              "      fill: #D2E3FC;\n",
              "    }\n",
              "\n",
              "    [theme=dark] .colab-df-convert:hover {\n",
              "      background-color: #434B5C;\n",
              "      box-shadow: 0px 1px 3px 1px rgba(0, 0, 0, 0.15);\n",
              "      filter: drop-shadow(0px 1px 2px rgba(0, 0, 0, 0.3));\n",
              "      fill: #FFFFFF;\n",
              "    }\n",
              "  </style>\n",
              "\n",
              "      <script>\n",
              "        const buttonEl =\n",
              "          document.querySelector('#df-159330f5-2945-4774-bab0-d586adbc9d5a button.colab-df-convert');\n",
              "        buttonEl.style.display =\n",
              "          google.colab.kernel.accessAllowed ? 'block' : 'none';\n",
              "\n",
              "        async function convertToInteractive(key) {\n",
              "          const element = document.querySelector('#df-159330f5-2945-4774-bab0-d586adbc9d5a');\n",
              "          const dataTable =\n",
              "            await google.colab.kernel.invokeFunction('convertToInteractive',\n",
              "                                                     [key], {});\n",
              "          if (!dataTable) return;\n",
              "\n",
              "          const docLinkHtml = 'Like what you see? Visit the ' +\n",
              "            '<a target=\"_blank\" href=https://colab.research.google.com/notebooks/data_table.ipynb>data table notebook</a>'\n",
              "            + ' to learn more about interactive tables.';\n",
              "          element.innerHTML = '';\n",
              "          dataTable['output_type'] = 'display_data';\n",
              "          await google.colab.output.renderOutput(dataTable, element);\n",
              "          const docLink = document.createElement('div');\n",
              "          docLink.innerHTML = docLinkHtml;\n",
              "          element.appendChild(docLink);\n",
              "        }\n",
              "      </script>\n",
              "    </div>\n",
              "  </div>\n",
              "  "
            ]
          },
          "metadata": {},
          "execution_count": 5
        }
      ]
    },
    {
      "cell_type": "code",
      "source": [
        "# En este apartado logramos visualizar todas las columnas que poseen algún campo nulo, para ver que approach tomaremos dependiendo del contexto.\n",
        "df2=df\n",
        "#df2.isnull().sum()"
      ],
      "metadata": {
        "id": "w4HUmgXKaCnm"
      },
      "execution_count": 6,
      "outputs": []
    },
    {
      "cell_type": "code",
      "source": [
        "# Para el caso de la columna calorarias, armaremos un histograma rapido para ver donde se concentra el promedio de calorias y tomaremos dicho valor como reemplazo para no alterar significativamente la base\n",
        "hist_calories = df2[\"Calories\"].hist()"
      ],
      "metadata": {
        "colab": {
          "base_uri": "https://localhost:8080/",
          "height": 265
        },
        "id": "MdoKpyAuiuZr",
        "outputId": "e728626d-f028-4ba0-e1be-44c715633853"
      },
      "execution_count": 7,
      "outputs": [
        {
          "output_type": "display_data",
          "data": {
            "text/plain": [
              "<Figure size 432x288 with 1 Axes>"
            ],
            "image/png": "[encoded data removed]"
          },
          "metadata": {
            "needs_background": "light"
          }
        }
      ]
    },
    {
      "cell_type": "code",
      "source": [
        "#Con base al histograma anterior, el valor se concentra dentro del numero 65, el cual sera el valor asignado.\n",
        "df2[\"Calories\"].fillna(65, inplace=True)\n",
        "#Posterior a ello validaremos que efectivamente ya no aparezcan valores nulos para la columna calorias\n",
        "df2.isnull().sum()"
      ],
      "metadata": {
        "colab": {
          "base_uri": "https://localhost:8080/"
        },
        "id": "3eIWshJBkiAS",
        "outputId": "9aadac0a-17cc-40c9-b75a-7d9db8c000e8"
      },
      "execution_count": 8,
      "outputs": [
        {
          "output_type": "execute_result",
          "data": {
            "text/plain": [
              "Food        0\n",
              "Measure     0\n",
              "Grams       0\n",
              "Calories    0\n",
              "Protein     0\n",
              "Fat         0\n",
              "Sat.Fat     2\n",
              "Fiber       0\n",
              "Carbs       0\n",
              "Category    0\n",
              "dtype: int64"
            ]
          },
          "metadata": {},
          "execution_count": 8
        }
      ]
    }
  ]
}
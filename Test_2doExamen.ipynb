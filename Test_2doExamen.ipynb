{
  "nbformat": 4,
  "nbformat_minor": 0,
  "metadata": {
    "colab": {
      "provenance": [],
      "authorship_tag": "ABX9TyO85l4JQ1n1pvlSx/w0zrHU",
      "include_colab_link": true
    },
    "kernelspec": {
      "name": "python3",
      "display_name": "Python 3"
    },
    "language_info": {
      "name": "python"
    }
  },
  "cells": [
    {
      "cell_type": "markdown",
      "metadata": {
        "id": "view-in-github",
        "colab_type": "text"
      },
      "source": [
        "<a href=\"https://colab.research.google.com/github/Paolo20224/ProjectZero/blob/main/Test_2doExamen.ipynb\" target=\"_parent\"><img src=\"https://colab.research.google.com/assets/colab-badge.svg\" alt=\"Open In Colab\"/></a>"
      ]
    },
    {
      "cell_type": "code",
      "execution_count": 1,
      "metadata": {
        "id": "wUMn0tn8Tjww"
      },
      "outputs": [],
      "source": [
        "#Como parte inicial, descargamos la informacion y la cargamos en nuestro cuader en Colab\n",
        "import pandas as pd\n",
        "filename = \"/content/Maternal Health Risk Data Set.csv\"\n",
        "df = pd.read_csv(filename)"
      ]
    },
    {
      "cell_type": "markdown",
      "source": [
        "1.Exploración y depuración de datos"
      ],
      "metadata": {
        "id": "2epxtCKUaO_E"
      }
    },
    {
      "cell_type": "code",
      "source": [
        "# A continuacion revisaremos aquellos datos nulos para ver la integridad de la informacion\n",
        "df.info()"
      ],
      "metadata": {
        "colab": {
          "base_uri": "https://localhost:8080/"
        },
        "id": "rY_byZc-USlL",
        "outputId": "b0b4a99d-9289-4373-d625-2fd3d0eb8a7b"
      },
      "execution_count": 2,
      "outputs": [
        {
          "output_type": "stream",
          "name": "stdout",
          "text": [
            "<class 'pandas.core.frame.DataFrame'>\n",
            "RangeIndex: 1014 entries, 0 to 1013\n",
            "Data columns (total 7 columns):\n",
            " #   Column       Non-Null Count  Dtype  \n",
            "---  ------       --------------  -----  \n",
            " 0   Age          1014 non-null   int64  \n",
            " 1   SystolicBP   1014 non-null   int64  \n",
            " 2   DiastolicBP  1014 non-null   int64  \n",
            " 3   BS           1014 non-null   float64\n",
            " 4   BodyTemp     1014 non-null   float64\n",
            " 5   HeartRate    1014 non-null   int64  \n",
            " 6   RiskLevel    1014 non-null   object \n",
            "dtypes: float64(2), int64(4), object(1)\n",
            "memory usage: 55.6+ KB\n"
          ]
        }
      ]
    },
    {
      "cell_type": "code",
      "source": [
        "# Revisaremos los primero diez datos para dimensionar la magnitud de la info\n",
        "df.head(10)"
      ],
      "metadata": {
        "colab": {
          "base_uri": "https://localhost:8080/",
          "height": 363
        },
        "id": "ekO1COY4UaPm",
        "outputId": "97167f06-bd96-46e9-fd6d-67f2b1d1d47d"
      },
      "execution_count": 3,
      "outputs": [
        {
          "output_type": "execute_result",
          "data": {
            "text/plain": [
              "   Age  SystolicBP  DiastolicBP     BS  BodyTemp  HeartRate  RiskLevel\n",
              "0   25         130           80  15.00      98.0         86  high risk\n",
              "1   35         140           90  13.00      98.0         70  high risk\n",
              "2   29          90           70   8.00     100.0         80  high risk\n",
              "3   30         140           85   7.00      98.0         70  high risk\n",
              "4   35         120           60   6.10      98.0         76   low risk\n",
              "5   23         140           80   7.01      98.0         70  high risk\n",
              "6   23         130           70   7.01      98.0         78   mid risk\n",
              "7   35          85           60  11.00     102.0         86  high risk\n",
              "8   32         120           90   6.90      98.0         70   mid risk\n",
              "9   42         130           80  18.00      98.0         70  high risk"
            ],
            "text/html": [
              "\n",
              "  <div id=\"df-cf58101a-4a1f-4742-bb20-1585bcbeacfa\">\n",
              "    <div class=\"colab-df-container\">\n",
              "      <div>\n",
              "<style scoped>\n",
              "    .dataframe tbody tr th:only-of-type {\n",
              "        vertical-align: middle;\n",
              "    }\n",
              "\n",
              "    .dataframe tbody tr th {\n",
              "        vertical-align: top;\n",
              "    }\n",
              "\n",
              "    .dataframe thead th {\n",
              "        text-align: right;\n",
              "    }\n",
              "</style>\n",
              "<table border=\"1\" class=\"dataframe\">\n",
              "  <thead>\n",
              "    <tr style=\"text-align: right;\">\n",
              "      <th></th>\n",
              "      <th>Age</th>\n",
              "      <th>SystolicBP</th>\n",
              "      <th>DiastolicBP</th>\n",
              "      <th>BS</th>\n",
              "      <th>BodyTemp</th>\n",
              "      <th>HeartRate</th>\n",
              "      <th>RiskLevel</th>\n",
              "    </tr>\n",
              "  </thead>\n",
              "  <tbody>\n",
              "    <tr>\n",
              "      <th>0</th>\n",
              "      <td>25</td>\n",
              "      <td>130</td>\n",
              "      <td>80</td>\n",
              "      <td>15.00</td>\n",
              "      <td>98.0</td>\n",
              "      <td>86</td>\n",
              "      <td>high risk</td>\n",
              "    </tr>\n",
              "    <tr>\n",
              "      <th>1</th>\n",
              "      <td>35</td>\n",
              "      <td>140</td>\n",
              "      <td>90</td>\n",
              "      <td>13.00</td>\n",
              "      <td>98.0</td>\n",
              "      <td>70</td>\n",
              "      <td>high risk</td>\n",
              "    </tr>\n",
              "    <tr>\n",
              "      <th>2</th>\n",
              "      <td>29</td>\n",
              "      <td>90</td>\n",
              "      <td>70</td>\n",
              "      <td>8.00</td>\n",
              "      <td>100.0</td>\n",
              "      <td>80</td>\n",
              "      <td>high risk</td>\n",
              "    </tr>\n",
              "    <tr>\n",
              "      <th>3</th>\n",
              "      <td>30</td>\n",
              "      <td>140</td>\n",
              "      <td>85</td>\n",
              "      <td>7.00</td>\n",
              "      <td>98.0</td>\n",
              "      <td>70</td>\n",
              "      <td>high risk</td>\n",
              "    </tr>\n",
              "    <tr>\n",
              "      <th>4</th>\n",
              "      <td>35</td>\n",
              "      <td>120</td>\n",
              "      <td>60</td>\n",
              "      <td>6.10</td>\n",
              "      <td>98.0</td>\n",
              "      <td>76</td>\n",
              "      <td>low risk</td>\n",
              "    </tr>\n",
              "    <tr>\n",
              "      <th>5</th>\n",
              "      <td>23</td>\n",
              "      <td>140</td>\n",
              "      <td>80</td>\n",
              "      <td>7.01</td>\n",
              "      <td>98.0</td>\n",
              "      <td>70</td>\n",
              "      <td>high risk</td>\n",
              "    </tr>\n",
              "    <tr>\n",
              "      <th>6</th>\n",
              "      <td>23</td>\n",
              "      <td>130</td>\n",
              "      <td>70</td>\n",
              "      <td>7.01</td>\n",
              "      <td>98.0</td>\n",
              "      <td>78</td>\n",
              "      <td>mid risk</td>\n",
              "    </tr>\n",
              "    <tr>\n",
              "      <th>7</th>\n",
              "      <td>35</td>\n",
              "      <td>85</td>\n",
              "      <td>60</td>\n",
              "      <td>11.00</td>\n",
              "      <td>102.0</td>\n",
              "      <td>86</td>\n",
              "      <td>high risk</td>\n",
              "    </tr>\n",
              "    <tr>\n",
              "      <th>8</th>\n",
              "      <td>32</td>\n",
              "      <td>120</td>\n",
              "      <td>90</td>\n",
              "      <td>6.90</td>\n",
              "      <td>98.0</td>\n",
              "      <td>70</td>\n",
              "      <td>mid risk</td>\n",
              "    </tr>\n",
              "    <tr>\n",
              "      <th>9</th>\n",
              "      <td>42</td>\n",
              "      <td>130</td>\n",
              "      <td>80</td>\n",
              "      <td>18.00</td>\n",
              "      <td>98.0</td>\n",
              "      <td>70</td>\n",
              "      <td>high risk</td>\n",
              "    </tr>\n",
              "  </tbody>\n",
              "</table>\n",
              "</div>\n",
              "      <button class=\"colab-df-convert\" onclick=\"convertToInteractive('df-cf58101a-4a1f-4742-bb20-1585bcbeacfa')\"\n",
              "              title=\"Convert this dataframe to an interactive table.\"\n",
              "              style=\"display:none;\">\n",
              "        \n",
              "  <svg xmlns=\"http://www.w3.org/2000/svg\" height=\"24px\"viewBox=\"0 0 24 24\"\n",
              "       width=\"24px\">\n",
              "    <path d=\"M0 0h24v24H0V0z\" fill=\"none\"/>\n",
              "    <path d=\"M18.56 5.44l.94 2.06.94-2.06 2.06-.94-2.06-.94-.94-2.06-.94 2.06-2.06.94zm-11 1L8.5 8.5l.94-2.06 2.06-.94-2.06-.94L8.5 2.5l-.94 2.06-2.06.94zm10 10l.94 2.06.94-2.06 2.06-.94-2.06-.94-.94-2.06-.94 2.06-2.06.94z\"/><path d=\"M17.41 7.96l-1.37-1.37c-.4-.4-.92-.59-1.43-.59-.52 0-1.04.2-1.43.59L10.3 9.45l-7.72 7.72c-.78.78-.78 2.05 0 2.83L4 21.41c.39.39.9.59 1.41.59.51 0 1.02-.2 1.41-.59l7.78-7.78 2.81-2.81c.8-.78.8-2.07 0-2.86zM5.41 20L4 18.59l7.72-7.72 1.47 1.35L5.41 20z\"/>\n",
              "  </svg>\n",
              "      </button>\n",
              "      \n",
              "  <style>\n",
              "    .colab-df-container {\n",
              "      display:flex;\n",
              "      flex-wrap:wrap;\n",
              "      gap: 12px;\n",
              "    }\n",
              "\n",
              "    .colab-df-convert {\n",
              "      background-color: #E8F0FE;\n",
              "      border: none;\n",
              "      border-radius: 50%;\n",
              "      cursor: pointer;\n",
              "      display: none;\n",
              "      fill: #1967D2;\n",
              "      height: 32px;\n",
              "      padding: 0 0 0 0;\n",
              "      width: 32px;\n",
              "    }\n",
              "\n",
              "    .colab-df-convert:hover {\n",
              "      background-color: #E2EBFA;\n",
              "      box-shadow: 0px 1px 2px rgba(60, 64, 67, 0.3), 0px 1px 3px 1px rgba(60, 64, 67, 0.15);\n",
              "      fill: #174EA6;\n",
              "    }\n",
              "\n",
              "    [theme=dark] .colab-df-convert {\n",
              "      background-color: #3B4455;\n",
              "      fill: #D2E3FC;\n",
              "    }\n",
              "\n",
              "    [theme=dark] .colab-df-convert:hover {\n",
              "      background-color: #434B5C;\n",
              "      box-shadow: 0px 1px 3px 1px rgba(0, 0, 0, 0.15);\n",
              "      filter: drop-shadow(0px 1px 2px rgba(0, 0, 0, 0.3));\n",
              "      fill: #FFFFFF;\n",
              "    }\n",
              "  </style>\n",
              "\n",
              "      <script>\n",
              "        const buttonEl =\n",
              "          document.querySelector('#df-cf58101a-4a1f-4742-bb20-1585bcbeacfa button.colab-df-convert');\n",
              "        buttonEl.style.display =\n",
              "          google.colab.kernel.accessAllowed ? 'block' : 'none';\n",
              "\n",
              "        async function convertToInteractive(key) {\n",
              "          const element = document.querySelector('#df-cf58101a-4a1f-4742-bb20-1585bcbeacfa');\n",
              "          const dataTable =\n",
              "            await google.colab.kernel.invokeFunction('convertToInteractive',\n",
              "                                                     [key], {});\n",
              "          if (!dataTable) return;\n",
              "\n",
              "          const docLinkHtml = 'Like what you see? Visit the ' +\n",
              "            '<a target=\"_blank\" href=https://colab.research.google.com/notebooks/data_table.ipynb>data table notebook</a>'\n",
              "            + ' to learn more about interactive tables.';\n",
              "          element.innerHTML = '';\n",
              "          dataTable['output_type'] = 'display_data';\n",
              "          await google.colab.output.renderOutput(dataTable, element);\n",
              "          const docLink = document.createElement('div');\n",
              "          docLink.innerHTML = docLinkHtml;\n",
              "          element.appendChild(docLink);\n",
              "        }\n",
              "      </script>\n",
              "    </div>\n",
              "  </div>\n",
              "  "
            ]
          },
          "metadata": {},
          "execution_count": 3
        }
      ]
    },
    {
      "cell_type": "code",
      "source": [
        "# Si bien es cierto más del 50% de la data se encuentra duplicada, no existe un identificador que permita asumir que cada valor es unico (ej Rut o ID), sin embargo tambien es posible asumir que es muy poco probable que se repitan datos de 7 columnas, por lo que a modo de un approach conservador eliminaremos los datos duplicados.\n",
        "duplicados = df.duplicated()\n",
        "duplicados.sum()"
      ],
      "metadata": {
        "colab": {
          "base_uri": "https://localhost:8080/"
        },
        "id": "qan1XaJuVmaM",
        "outputId": "ab461663-9ee6-44d1-fa43-8175f3075d30"
      },
      "execution_count": 4,
      "outputs": [
        {
          "output_type": "execute_result",
          "data": {
            "text/plain": [
              "562"
            ]
          },
          "metadata": {},
          "execution_count": 4
        }
      ]
    },
    {
      "cell_type": "code",
      "source": [
        "df2=df\n",
        "df2 = df2.drop_duplicates()\n",
        "df2.describe()"
      ],
      "metadata": {
        "colab": {
          "base_uri": "https://localhost:8080/",
          "height": 300
        },
        "id": "X-Qnm3iUWr0H",
        "outputId": "638758a9-f18e-4c36-9c6a-4b8c5766cc32"
      },
      "execution_count": 5,
      "outputs": [
        {
          "output_type": "execute_result",
          "data": {
            "text/plain": [
              "              Age  SystolicBP  DiastolicBP          BS    BodyTemp   HeartRate\n",
              "count  452.000000  452.000000   452.000000  452.000000  452.000000  452.000000\n",
              "mean    29.194690  110.553097    75.418142    8.346173   98.692478   73.949115\n",
              "std     13.767379   17.872282    13.754578    2.829209    1.410897    8.156973\n",
              "min     10.000000   70.000000    49.000000    6.000000   98.000000    7.000000\n",
              "25%     19.000000   90.000000    65.000000    6.900000   98.000000   70.000000\n",
              "50%     25.000000  120.000000    80.000000    7.500000   98.000000   76.000000\n",
              "75%     35.000000  120.000000    86.000000    7.900000   98.000000   80.000000\n",
              "max     70.000000  160.000000   100.000000   19.000000  103.000000   90.000000"
            ],
            "text/html": [
              "\n",
              "  <div id=\"df-84ae57d3-785d-43a1-a762-6b553c1ba19b\">\n",
              "    <div class=\"colab-df-container\">\n",
              "      <div>\n",
              "<style scoped>\n",
              "    .dataframe tbody tr th:only-of-type {\n",
              "        vertical-align: middle;\n",
              "    }\n",
              "\n",
              "    .dataframe tbody tr th {\n",
              "        vertical-align: top;\n",
              "    }\n",
              "\n",
              "    .dataframe thead th {\n",
              "        text-align: right;\n",
              "    }\n",
              "</style>\n",
              "<table border=\"1\" class=\"dataframe\">\n",
              "  <thead>\n",
              "    <tr style=\"text-align: right;\">\n",
              "      <th></th>\n",
              "      <th>Age</th>\n",
              "      <th>SystolicBP</th>\n",
              "      <th>DiastolicBP</th>\n",
              "      <th>BS</th>\n",
              "      <th>BodyTemp</th>\n",
              "      <th>HeartRate</th>\n",
              "    </tr>\n",
              "  </thead>\n",
              "  <tbody>\n",
              "    <tr>\n",
              "      <th>count</th>\n",
              "      <td>452.000000</td>\n",
              "      <td>452.000000</td>\n",
              "      <td>452.000000</td>\n",
              "      <td>452.000000</td>\n",
              "      <td>452.000000</td>\n",
              "      <td>452.000000</td>\n",
              "    </tr>\n",
              "    <tr>\n",
              "      <th>mean</th>\n",
              "      <td>29.194690</td>\n",
              "      <td>110.553097</td>\n",
              "      <td>75.418142</td>\n",
              "      <td>8.346173</td>\n",
              "      <td>98.692478</td>\n",
              "      <td>73.949115</td>\n",
              "    </tr>\n",
              "    <tr>\n",
              "      <th>std</th>\n",
              "      <td>13.767379</td>\n",
              "      <td>17.872282</td>\n",
              "      <td>13.754578</td>\n",
              "      <td>2.829209</td>\n",
              "      <td>1.410897</td>\n",
              "      <td>8.156973</td>\n",
              "    </tr>\n",
              "    <tr>\n",
              "      <th>min</th>\n",
              "      <td>10.000000</td>\n",
              "      <td>70.000000</td>\n",
              "      <td>49.000000</td>\n",
              "      <td>6.000000</td>\n",
              "      <td>98.000000</td>\n",
              "      <td>7.000000</td>\n",
              "    </tr>\n",
              "    <tr>\n",
              "      <th>25%</th>\n",
              "      <td>19.000000</td>\n",
              "      <td>90.000000</td>\n",
              "      <td>65.000000</td>\n",
              "      <td>6.900000</td>\n",
              "      <td>98.000000</td>\n",
              "      <td>70.000000</td>\n",
              "    </tr>\n",
              "    <tr>\n",
              "      <th>50%</th>\n",
              "      <td>25.000000</td>\n",
              "      <td>120.000000</td>\n",
              "      <td>80.000000</td>\n",
              "      <td>7.500000</td>\n",
              "      <td>98.000000</td>\n",
              "      <td>76.000000</td>\n",
              "    </tr>\n",
              "    <tr>\n",
              "      <th>75%</th>\n",
              "      <td>35.000000</td>\n",
              "      <td>120.000000</td>\n",
              "      <td>86.000000</td>\n",
              "      <td>7.900000</td>\n",
              "      <td>98.000000</td>\n",
              "      <td>80.000000</td>\n",
              "    </tr>\n",
              "    <tr>\n",
              "      <th>max</th>\n",
              "      <td>70.000000</td>\n",
              "      <td>160.000000</td>\n",
              "      <td>100.000000</td>\n",
              "      <td>19.000000</td>\n",
              "      <td>103.000000</td>\n",
              "      <td>90.000000</td>\n",
              "    </tr>\n",
              "  </tbody>\n",
              "</table>\n",
              "</div>\n",
              "      <button class=\"colab-df-convert\" onclick=\"convertToInteractive('df-84ae57d3-785d-43a1-a762-6b553c1ba19b')\"\n",
              "              title=\"Convert this dataframe to an interactive table.\"\n",
              "              style=\"display:none;\">\n",
              "        \n",
              "  <svg xmlns=\"http://www.w3.org/2000/svg\" height=\"24px\"viewBox=\"0 0 24 24\"\n",
              "       width=\"24px\">\n",
              "    <path d=\"M0 0h24v24H0V0z\" fill=\"none\"/>\n",
              "    <path d=\"M18.56 5.44l.94 2.06.94-2.06 2.06-.94-2.06-.94-.94-2.06-.94 2.06-2.06.94zm-11 1L8.5 8.5l.94-2.06 2.06-.94-2.06-.94L8.5 2.5l-.94 2.06-2.06.94zm10 10l.94 2.06.94-2.06 2.06-.94-2.06-.94-.94-2.06-.94 2.06-2.06.94z\"/><path d=\"M17.41 7.96l-1.37-1.37c-.4-.4-.92-.59-1.43-.59-.52 0-1.04.2-1.43.59L10.3 9.45l-7.72 7.72c-.78.78-.78 2.05 0 2.83L4 21.41c.39.39.9.59 1.41.59.51 0 1.02-.2 1.41-.59l7.78-7.78 2.81-2.81c.8-.78.8-2.07 0-2.86zM5.41 20L4 18.59l7.72-7.72 1.47 1.35L5.41 20z\"/>\n",
              "  </svg>\n",
              "      </button>\n",
              "      \n",
              "  <style>\n",
              "    .colab-df-container {\n",
              "      display:flex;\n",
              "      flex-wrap:wrap;\n",
              "      gap: 12px;\n",
              "    }\n",
              "\n",
              "    .colab-df-convert {\n",
              "      background-color: #E8F0FE;\n",
              "      border: none;\n",
              "      border-radius: 50%;\n",
              "      cursor: pointer;\n",
              "      display: none;\n",
              "      fill: #1967D2;\n",
              "      height: 32px;\n",
              "      padding: 0 0 0 0;\n",
              "      width: 32px;\n",
              "    }\n",
              "\n",
              "    .colab-df-convert:hover {\n",
              "      background-color: #E2EBFA;\n",
              "      box-shadow: 0px 1px 2px rgba(60, 64, 67, 0.3), 0px 1px 3px 1px rgba(60, 64, 67, 0.15);\n",
              "      fill: #174EA6;\n",
              "    }\n",
              "\n",
              "    [theme=dark] .colab-df-convert {\n",
              "      background-color: #3B4455;\n",
              "      fill: #D2E3FC;\n",
              "    }\n",
              "\n",
              "    [theme=dark] .colab-df-convert:hover {\n",
              "      background-color: #434B5C;\n",
              "      box-shadow: 0px 1px 3px 1px rgba(0, 0, 0, 0.15);\n",
              "      filter: drop-shadow(0px 1px 2px rgba(0, 0, 0, 0.3));\n",
              "      fill: #FFFFFF;\n",
              "    }\n",
              "  </style>\n",
              "\n",
              "      <script>\n",
              "        const buttonEl =\n",
              "          document.querySelector('#df-84ae57d3-785d-43a1-a762-6b553c1ba19b button.colab-df-convert');\n",
              "        buttonEl.style.display =\n",
              "          google.colab.kernel.accessAllowed ? 'block' : 'none';\n",
              "\n",
              "        async function convertToInteractive(key) {\n",
              "          const element = document.querySelector('#df-84ae57d3-785d-43a1-a762-6b553c1ba19b');\n",
              "          const dataTable =\n",
              "            await google.colab.kernel.invokeFunction('convertToInteractive',\n",
              "                                                     [key], {});\n",
              "          if (!dataTable) return;\n",
              "\n",
              "          const docLinkHtml = 'Like what you see? Visit the ' +\n",
              "            '<a target=\"_blank\" href=https://colab.research.google.com/notebooks/data_table.ipynb>data table notebook</a>'\n",
              "            + ' to learn more about interactive tables.';\n",
              "          element.innerHTML = '';\n",
              "          dataTable['output_type'] = 'display_data';\n",
              "          await google.colab.output.renderOutput(dataTable, element);\n",
              "          const docLink = document.createElement('div');\n",
              "          docLink.innerHTML = docLinkHtml;\n",
              "          element.appendChild(docLink);\n",
              "        }\n",
              "      </script>\n",
              "    </div>\n",
              "  </div>\n",
              "  "
            ]
          },
          "metadata": {},
          "execution_count": 5
        }
      ]
    },
    {
      "cell_type": "code",
      "source": [
        "#Con nuestro DF ya depurado de elementos duplicados y nulos prodeceremos a revisar si nuestra variable objeto puede ser transformada en variable cuantitativa.\n",
        "df2.info()"
      ],
      "metadata": {
        "colab": {
          "base_uri": "https://localhost:8080/"
        },
        "id": "n_JlVN4vZ75q",
        "outputId": "3184a521-7bfb-400b-8479-f8084b046cba"
      },
      "execution_count": 6,
      "outputs": [
        {
          "output_type": "stream",
          "name": "stdout",
          "text": [
            "<class 'pandas.core.frame.DataFrame'>\n",
            "Int64Index: 452 entries, 0 to 705\n",
            "Data columns (total 7 columns):\n",
            " #   Column       Non-Null Count  Dtype  \n",
            "---  ------       --------------  -----  \n",
            " 0   Age          452 non-null    int64  \n",
            " 1   SystolicBP   452 non-null    int64  \n",
            " 2   DiastolicBP  452 non-null    int64  \n",
            " 3   BS           452 non-null    float64\n",
            " 4   BodyTemp     452 non-null    float64\n",
            " 5   HeartRate    452 non-null    int64  \n",
            " 6   RiskLevel    452 non-null    object \n",
            "dtypes: float64(2), int64(4), object(1)\n",
            "memory usage: 28.2+ KB\n"
          ]
        }
      ]
    },
    {
      "cell_type": "code",
      "source": [
        "df2.groupby(['RiskLevel'])[['RiskLevel']].count()"
      ],
      "metadata": {
        "colab": {
          "base_uri": "https://localhost:8080/",
          "height": 175
        },
        "id": "EPK15la-bXMJ",
        "outputId": "ecc0f0aa-31de-434f-95c5-ba1e64e1785f"
      },
      "execution_count": 7,
      "outputs": [
        {
          "output_type": "execute_result",
          "data": {
            "text/plain": [
              "           RiskLevel\n",
              "RiskLevel           \n",
              "high risk        112\n",
              "low risk         234\n",
              "mid risk         106"
            ],
            "text/html": [
              "\n",
              "  <div id=\"df-7d56f933-6e00-493d-9973-926b9aaff1a4\">\n",
              "    <div class=\"colab-df-container\">\n",
              "      <div>\n",
              "<style scoped>\n",
              "    .dataframe tbody tr th:only-of-type {\n",
              "        vertical-align: middle;\n",
              "    }\n",
              "\n",
              "    .dataframe tbody tr th {\n",
              "        vertical-align: top;\n",
              "    }\n",
              "\n",
              "    .dataframe thead th {\n",
              "        text-align: right;\n",
              "    }\n",
              "</style>\n",
              "<table border=\"1\" class=\"dataframe\">\n",
              "  <thead>\n",
              "    <tr style=\"text-align: right;\">\n",
              "      <th></th>\n",
              "      <th>RiskLevel</th>\n",
              "    </tr>\n",
              "    <tr>\n",
              "      <th>RiskLevel</th>\n",
              "      <th></th>\n",
              "    </tr>\n",
              "  </thead>\n",
              "  <tbody>\n",
              "    <tr>\n",
              "      <th>high risk</th>\n",
              "      <td>112</td>\n",
              "    </tr>\n",
              "    <tr>\n",
              "      <th>low risk</th>\n",
              "      <td>234</td>\n",
              "    </tr>\n",
              "    <tr>\n",
              "      <th>mid risk</th>\n",
              "      <td>106</td>\n",
              "    </tr>\n",
              "  </tbody>\n",
              "</table>\n",
              "</div>\n",
              "      <button class=\"colab-df-convert\" onclick=\"convertToInteractive('df-7d56f933-6e00-493d-9973-926b9aaff1a4')\"\n",
              "              title=\"Convert this dataframe to an interactive table.\"\n",
              "              style=\"display:none;\">\n",
              "        \n",
              "  <svg xmlns=\"http://www.w3.org/2000/svg\" height=\"24px\"viewBox=\"0 0 24 24\"\n",
              "       width=\"24px\">\n",
              "    <path d=\"M0 0h24v24H0V0z\" fill=\"none\"/>\n",
              "    <path d=\"M18.56 5.44l.94 2.06.94-2.06 2.06-.94-2.06-.94-.94-2.06-.94 2.06-2.06.94zm-11 1L8.5 8.5l.94-2.06 2.06-.94-2.06-.94L8.5 2.5l-.94 2.06-2.06.94zm10 10l.94 2.06.94-2.06 2.06-.94-2.06-.94-.94-2.06-.94 2.06-2.06.94z\"/><path d=\"M17.41 7.96l-1.37-1.37c-.4-.4-.92-.59-1.43-.59-.52 0-1.04.2-1.43.59L10.3 9.45l-7.72 7.72c-.78.78-.78 2.05 0 2.83L4 21.41c.39.39.9.59 1.41.59.51 0 1.02-.2 1.41-.59l7.78-7.78 2.81-2.81c.8-.78.8-2.07 0-2.86zM5.41 20L4 18.59l7.72-7.72 1.47 1.35L5.41 20z\"/>\n",
              "  </svg>\n",
              "      </button>\n",
              "      \n",
              "  <style>\n",
              "    .colab-df-container {\n",
              "      display:flex;\n",
              "      flex-wrap:wrap;\n",
              "      gap: 12px;\n",
              "    }\n",
              "\n",
              "    .colab-df-convert {\n",
              "      background-color: #E8F0FE;\n",
              "      border: none;\n",
              "      border-radius: 50%;\n",
              "      cursor: pointer;\n",
              "      display: none;\n",
              "      fill: #1967D2;\n",
              "      height: 32px;\n",
              "      padding: 0 0 0 0;\n",
              "      width: 32px;\n",
              "    }\n",
              "\n",
              "    .colab-df-convert:hover {\n",
              "      background-color: #E2EBFA;\n",
              "      box-shadow: 0px 1px 2px rgba(60, 64, 67, 0.3), 0px 1px 3px 1px rgba(60, 64, 67, 0.15);\n",
              "      fill: #174EA6;\n",
              "    }\n",
              "\n",
              "    [theme=dark] .colab-df-convert {\n",
              "      background-color: #3B4455;\n",
              "      fill: #D2E3FC;\n",
              "    }\n",
              "\n",
              "    [theme=dark] .colab-df-convert:hover {\n",
              "      background-color: #434B5C;\n",
              "      box-shadow: 0px 1px 3px 1px rgba(0, 0, 0, 0.15);\n",
              "      filter: drop-shadow(0px 1px 2px rgba(0, 0, 0, 0.3));\n",
              "      fill: #FFFFFF;\n",
              "    }\n",
              "  </style>\n",
              "\n",
              "      <script>\n",
              "        const buttonEl =\n",
              "          document.querySelector('#df-7d56f933-6e00-493d-9973-926b9aaff1a4 button.colab-df-convert');\n",
              "        buttonEl.style.display =\n",
              "          google.colab.kernel.accessAllowed ? 'block' : 'none';\n",
              "\n",
              "        async function convertToInteractive(key) {\n",
              "          const element = document.querySelector('#df-7d56f933-6e00-493d-9973-926b9aaff1a4');\n",
              "          const dataTable =\n",
              "            await google.colab.kernel.invokeFunction('convertToInteractive',\n",
              "                                                     [key], {});\n",
              "          if (!dataTable) return;\n",
              "\n",
              "          const docLinkHtml = 'Like what you see? Visit the ' +\n",
              "            '<a target=\"_blank\" href=https://colab.research.google.com/notebooks/data_table.ipynb>data table notebook</a>'\n",
              "            + ' to learn more about interactive tables.';\n",
              "          element.innerHTML = '';\n",
              "          dataTable['output_type'] = 'display_data';\n",
              "          await google.colab.output.renderOutput(dataTable, element);\n",
              "          const docLink = document.createElement('div');\n",
              "          docLink.innerHTML = docLinkHtml;\n",
              "          element.appendChild(docLink);\n",
              "        }\n",
              "      </script>\n",
              "    </div>\n",
              "  </div>\n",
              "  "
            ]
          },
          "metadata": {},
          "execution_count": 7
        }
      ]
    },
    {
      "cell_type": "code",
      "source": [
        "df3=df2\n",
        "df3['RiskLevel'] = df3['RiskLevel'].replace(\"high risk\",3)\n",
        "df3['RiskLevel'] = df3['RiskLevel'].replace(\"mid risk\",2)\n",
        "df3['RiskLevel'] = df3['RiskLevel'].replace(\"low risk\",1)\n",
        "df3.describe()"
      ],
      "metadata": {
        "colab": {
          "base_uri": "https://localhost:8080/",
          "height": 613
        },
        "id": "ldNb8znSt0WS",
        "outputId": "fd748a42-9ce0-4b70-d5b3-0ef22b72a3f0"
      },
      "execution_count": 8,
      "outputs": [
        {
          "output_type": "stream",
          "name": "stderr",
          "text": [
            "/usr/local/lib/python3.7/dist-packages/ipykernel_launcher.py:2: SettingWithCopyWarning: \n",
            "A value is trying to be set on a copy of a slice from a DataFrame.\n",
            "Try using .loc[row_indexer,col_indexer] = value instead\n",
            "\n",
            "See the caveats in the documentation: https://pandas.pydata.org/pandas-docs/stable/user_guide/indexing.html#returning-a-view-versus-a-copy\n",
            "  \n",
            "/usr/local/lib/python3.7/dist-packages/ipykernel_launcher.py:3: SettingWithCopyWarning: \n",
            "A value is trying to be set on a copy of a slice from a DataFrame.\n",
            "Try using .loc[row_indexer,col_indexer] = value instead\n",
            "\n",
            "See the caveats in the documentation: https://pandas.pydata.org/pandas-docs/stable/user_guide/indexing.html#returning-a-view-versus-a-copy\n",
            "  This is separate from the ipykernel package so we can avoid doing imports until\n",
            "/usr/local/lib/python3.7/dist-packages/ipykernel_launcher.py:4: SettingWithCopyWarning: \n",
            "A value is trying to be set on a copy of a slice from a DataFrame.\n",
            "Try using .loc[row_indexer,col_indexer] = value instead\n",
            "\n",
            "See the caveats in the documentation: https://pandas.pydata.org/pandas-docs/stable/user_guide/indexing.html#returning-a-view-versus-a-copy\n",
            "  after removing the cwd from sys.path.\n"
          ]
        },
        {
          "output_type": "execute_result",
          "data": {
            "text/plain": [
              "              Age  SystolicBP  DiastolicBP          BS    BodyTemp  \\\n",
              "count  452.000000  452.000000   452.000000  452.000000  452.000000   \n",
              "mean    29.194690  110.553097    75.418142    8.346173   98.692478   \n",
              "std     13.767379   17.872282    13.754578    2.829209    1.410897   \n",
              "min     10.000000   70.000000    49.000000    6.000000   98.000000   \n",
              "25%     19.000000   90.000000    65.000000    6.900000   98.000000   \n",
              "50%     25.000000  120.000000    80.000000    7.500000   98.000000   \n",
              "75%     35.000000  120.000000    86.000000    7.900000   98.000000   \n",
              "max     70.000000  160.000000   100.000000   19.000000  103.000000   \n",
              "\n",
              "        HeartRate   RiskLevel  \n",
              "count  452.000000  452.000000  \n",
              "mean    73.949115    1.730088  \n",
              "std      8.156973    0.833169  \n",
              "min      7.000000    1.000000  \n",
              "25%     70.000000    1.000000  \n",
              "50%     76.000000    1.000000  \n",
              "75%     80.000000    2.000000  \n",
              "max     90.000000    3.000000  "
            ],
            "text/html": [
              "\n",
              "  <div id=\"df-d42990ab-218c-499c-8342-06384ea90b43\">\n",
              "    <div class=\"colab-df-container\">\n",
              "      <div>\n",
              "<style scoped>\n",
              "    .dataframe tbody tr th:only-of-type {\n",
              "        vertical-align: middle;\n",
              "    }\n",
              "\n",
              "    .dataframe tbody tr th {\n",
              "        vertical-align: top;\n",
              "    }\n",
              "\n",
              "    .dataframe thead th {\n",
              "        text-align: right;\n",
              "    }\n",
              "</style>\n",
              "<table border=\"1\" class=\"dataframe\">\n",
              "  <thead>\n",
              "    <tr style=\"text-align: right;\">\n",
              "      <th></th>\n",
              "      <th>Age</th>\n",
              "      <th>SystolicBP</th>\n",
              "      <th>DiastolicBP</th>\n",
              "      <th>BS</th>\n",
              "      <th>BodyTemp</th>\n",
              "      <th>HeartRate</th>\n",
              "      <th>RiskLevel</th>\n",
              "    </tr>\n",
              "  </thead>\n",
              "  <tbody>\n",
              "    <tr>\n",
              "      <th>count</th>\n",
              "      <td>452.000000</td>\n",
              "      <td>452.000000</td>\n",
              "      <td>452.000000</td>\n",
              "      <td>452.000000</td>\n",
              "      <td>452.000000</td>\n",
              "      <td>452.000000</td>\n",
              "      <td>452.000000</td>\n",
              "    </tr>\n",
              "    <tr>\n",
              "      <th>mean</th>\n",
              "      <td>29.194690</td>\n",
              "      <td>110.553097</td>\n",
              "      <td>75.418142</td>\n",
              "      <td>8.346173</td>\n",
              "      <td>98.692478</td>\n",
              "      <td>73.949115</td>\n",
              "      <td>1.730088</td>\n",
              "    </tr>\n",
              "    <tr>\n",
              "      <th>std</th>\n",
              "      <td>13.767379</td>\n",
              "      <td>17.872282</td>\n",
              "      <td>13.754578</td>\n",
              "      <td>2.829209</td>\n",
              "      <td>1.410897</td>\n",
              "      <td>8.156973</td>\n",
              "      <td>0.833169</td>\n",
              "    </tr>\n",
              "    <tr>\n",
              "      <th>min</th>\n",
              "      <td>10.000000</td>\n",
              "      <td>70.000000</td>\n",
              "      <td>49.000000</td>\n",
              "      <td>6.000000</td>\n",
              "      <td>98.000000</td>\n",
              "      <td>7.000000</td>\n",
              "      <td>1.000000</td>\n",
              "    </tr>\n",
              "    <tr>\n",
              "      <th>25%</th>\n",
              "      <td>19.000000</td>\n",
              "      <td>90.000000</td>\n",
              "      <td>65.000000</td>\n",
              "      <td>6.900000</td>\n",
              "      <td>98.000000</td>\n",
              "      <td>70.000000</td>\n",
              "      <td>1.000000</td>\n",
              "    </tr>\n",
              "    <tr>\n",
              "      <th>50%</th>\n",
              "      <td>25.000000</td>\n",
              "      <td>120.000000</td>\n",
              "      <td>80.000000</td>\n",
              "      <td>7.500000</td>\n",
              "      <td>98.000000</td>\n",
              "      <td>76.000000</td>\n",
              "      <td>1.000000</td>\n",
              "    </tr>\n",
              "    <tr>\n",
              "      <th>75%</th>\n",
              "      <td>35.000000</td>\n",
              "      <td>120.000000</td>\n",
              "      <td>86.000000</td>\n",
              "      <td>7.900000</td>\n",
              "      <td>98.000000</td>\n",
              "      <td>80.000000</td>\n",
              "      <td>2.000000</td>\n",
              "    </tr>\n",
              "    <tr>\n",
              "      <th>max</th>\n",
              "      <td>70.000000</td>\n",
              "      <td>160.000000</td>\n",
              "      <td>100.000000</td>\n",
              "      <td>19.000000</td>\n",
              "      <td>103.000000</td>\n",
              "      <td>90.000000</td>\n",
              "      <td>3.000000</td>\n",
              "    </tr>\n",
              "  </tbody>\n",
              "</table>\n",
              "</div>\n",
              "      <button class=\"colab-df-convert\" onclick=\"convertToInteractive('df-d42990ab-218c-499c-8342-06384ea90b43')\"\n",
              "              title=\"Convert this dataframe to an interactive table.\"\n",
              "              style=\"display:none;\">\n",
              "        \n",
              "  <svg xmlns=\"http://www.w3.org/2000/svg\" height=\"24px\"viewBox=\"0 0 24 24\"\n",
              "       width=\"24px\">\n",
              "    <path d=\"M0 0h24v24H0V0z\" fill=\"none\"/>\n",
              "    <path d=\"M18.56 5.44l.94 2.06.94-2.06 2.06-.94-2.06-.94-.94-2.06-.94 2.06-2.06.94zm-11 1L8.5 8.5l.94-2.06 2.06-.94-2.06-.94L8.5 2.5l-.94 2.06-2.06.94zm10 10l.94 2.06.94-2.06 2.06-.94-2.06-.94-.94-2.06-.94 2.06-2.06.94z\"/><path d=\"M17.41 7.96l-1.37-1.37c-.4-.4-.92-.59-1.43-.59-.52 0-1.04.2-1.43.59L10.3 9.45l-7.72 7.72c-.78.78-.78 2.05 0 2.83L4 21.41c.39.39.9.59 1.41.59.51 0 1.02-.2 1.41-.59l7.78-7.78 2.81-2.81c.8-.78.8-2.07 0-2.86zM5.41 20L4 18.59l7.72-7.72 1.47 1.35L5.41 20z\"/>\n",
              "  </svg>\n",
              "      </button>\n",
              "      \n",
              "  <style>\n",
              "    .colab-df-container {\n",
              "      display:flex;\n",
              "      flex-wrap:wrap;\n",
              "      gap: 12px;\n",
              "    }\n",
              "\n",
              "    .colab-df-convert {\n",
              "      background-color: #E8F0FE;\n",
              "      border: none;\n",
              "      border-radius: 50%;\n",
              "      cursor: pointer;\n",
              "      display: none;\n",
              "      fill: #1967D2;\n",
              "      height: 32px;\n",
              "      padding: 0 0 0 0;\n",
              "      width: 32px;\n",
              "    }\n",
              "\n",
              "    .colab-df-convert:hover {\n",
              "      background-color: #E2EBFA;\n",
              "      box-shadow: 0px 1px 2px rgba(60, 64, 67, 0.3), 0px 1px 3px 1px rgba(60, 64, 67, 0.15);\n",
              "      fill: #174EA6;\n",
              "    }\n",
              "\n",
              "    [theme=dark] .colab-df-convert {\n",
              "      background-color: #3B4455;\n",
              "      fill: #D2E3FC;\n",
              "    }\n",
              "\n",
              "    [theme=dark] .colab-df-convert:hover {\n",
              "      background-color: #434B5C;\n",
              "      box-shadow: 0px 1px 3px 1px rgba(0, 0, 0, 0.15);\n",
              "      filter: drop-shadow(0px 1px 2px rgba(0, 0, 0, 0.3));\n",
              "      fill: #FFFFFF;\n",
              "    }\n",
              "  </style>\n",
              "\n",
              "      <script>\n",
              "        const buttonEl =\n",
              "          document.querySelector('#df-d42990ab-218c-499c-8342-06384ea90b43 button.colab-df-convert');\n",
              "        buttonEl.style.display =\n",
              "          google.colab.kernel.accessAllowed ? 'block' : 'none';\n",
              "\n",
              "        async function convertToInteractive(key) {\n",
              "          const element = document.querySelector('#df-d42990ab-218c-499c-8342-06384ea90b43');\n",
              "          const dataTable =\n",
              "            await google.colab.kernel.invokeFunction('convertToInteractive',\n",
              "                                                     [key], {});\n",
              "          if (!dataTable) return;\n",
              "\n",
              "          const docLinkHtml = 'Like what you see? Visit the ' +\n",
              "            '<a target=\"_blank\" href=https://colab.research.google.com/notebooks/data_table.ipynb>data table notebook</a>'\n",
              "            + ' to learn more about interactive tables.';\n",
              "          element.innerHTML = '';\n",
              "          dataTable['output_type'] = 'display_data';\n",
              "          await google.colab.output.renderOutput(dataTable, element);\n",
              "          const docLink = document.createElement('div');\n",
              "          docLink.innerHTML = docLinkHtml;\n",
              "          element.appendChild(docLink);\n",
              "        }\n",
              "      </script>\n",
              "    </div>\n",
              "  </div>\n",
              "  "
            ]
          },
          "metadata": {},
          "execution_count": 8
        }
      ]
    },
    {
      "cell_type": "markdown",
      "source": [
        "2. Visualización y navegacion de dataframe"
      ],
      "metadata": {
        "id": "i23zS1UaaYbp"
      }
    },
    {
      "cell_type": "code",
      "source": [
        "#A continuacion analizamos la correlacion entra las variables cuantitativas (incluyendo la modificacion de nuestro nivel de riesgo).\n",
        "import pandas as pd\n",
        "corr_df = df3.corr(method='pearson')\n",
        "corr_df.style.background_gradient(cmap='coolwarm')"
      ],
      "metadata": {
        "colab": {
          "base_uri": "https://localhost:8080/",
          "height": 269
        },
        "id": "zFCIec7kaepk",
        "outputId": "8852615c-6439-4a6e-da07-515d910b44cc"
      },
      "execution_count": 9,
      "outputs": [
        {
          "output_type": "execute_result",
          "data": {
            "text/plain": [
              "<pandas.io.formats.style.Styler at 0x7f55a19bc510>"
            ],
            "text/html": [
              "<style type=\"text/css\">\n",
              "#T_fa269_row0_col0, #T_fa269_row1_col1, #T_fa269_row2_col2, #T_fa269_row3_col3, #T_fa269_row4_col4, #T_fa269_row5_col5, #T_fa269_row6_col6 {\n",
              "  background-color: #b40426;\n",
              "  color: #f1f1f1;\n",
              "}\n",
              "#T_fa269_row0_col1 {\n",
              "  background-color: #d8dce2;\n",
              "  color: #000000;\n",
              "}\n",
              "#T_fa269_row0_col2, #T_fa269_row3_col1 {\n",
              "  background-color: #d2dbe8;\n",
              "  color: #000000;\n",
              "}\n",
              "#T_fa269_row0_col3 {\n",
              "  background-color: #c0d4f5;\n",
              "  color: #000000;\n",
              "}\n",
              "#T_fa269_row0_col4 {\n",
              "  background-color: #3e51c5;\n",
              "  color: #f1f1f1;\n",
              "}\n",
              "#T_fa269_row0_col5 {\n",
              "  background-color: #5673e0;\n",
              "  color: #f1f1f1;\n",
              "}\n",
              "#T_fa269_row0_col6, #T_fa269_row1_col4, #T_fa269_row2_col5, #T_fa269_row4_col0, #T_fa269_row4_col1, #T_fa269_row4_col2, #T_fa269_row4_col3, #T_fa269_row5_col6 {\n",
              "  background-color: #3b4cc0;\n",
              "  color: #f1f1f1;\n",
              "}\n",
              "#T_fa269_row1_col0, #T_fa269_row3_col0 {\n",
              "  background-color: #d6dce4;\n",
              "  color: #000000;\n",
              "}\n",
              "#T_fa269_row1_col2, #T_fa269_row2_col1 {\n",
              "  background-color: #e9785d;\n",
              "  color: #f1f1f1;\n",
              "}\n",
              "#T_fa269_row1_col3 {\n",
              "  background-color: #b7cff9;\n",
              "  color: #000000;\n",
              "}\n",
              "#T_fa269_row1_col5 {\n",
              "  background-color: #3d50c3;\n",
              "  color: #f1f1f1;\n",
              "}\n",
              "#T_fa269_row1_col6 {\n",
              "  background-color: #7396f5;\n",
              "  color: #f1f1f1;\n",
              "}\n",
              "#T_fa269_row2_col0 {\n",
              "  background-color: #cfdaea;\n",
              "  color: #000000;\n",
              "}\n",
              "#T_fa269_row2_col3 {\n",
              "  background-color: #a9c6fd;\n",
              "  color: #000000;\n",
              "}\n",
              "#T_fa269_row2_col4 {\n",
              "  background-color: #3c4ec2;\n",
              "  color: #f1f1f1;\n",
              "}\n",
              "#T_fa269_row2_col6 {\n",
              "  background-color: #5572df;\n",
              "  color: #f1f1f1;\n",
              "}\n",
              "#T_fa269_row3_col2 {\n",
              "  background-color: #c6d6f1;\n",
              "  color: #000000;\n",
              "}\n",
              "#T_fa269_row3_col4 {\n",
              "  background-color: #6485ec;\n",
              "  color: #f1f1f1;\n",
              "}\n",
              "#T_fa269_row3_col5 {\n",
              "  background-color: #6a8bef;\n",
              "  color: #f1f1f1;\n",
              "}\n",
              "#T_fa269_row3_col6 {\n",
              "  background-color: #cedaeb;\n",
              "  color: #000000;\n",
              "}\n",
              "#T_fa269_row4_col5 {\n",
              "  background-color: #5a78e4;\n",
              "  color: #f1f1f1;\n",
              "}\n",
              "#T_fa269_row4_col6 {\n",
              "  background-color: #5875e1;\n",
              "  color: #f1f1f1;\n",
              "}\n",
              "#T_fa269_row5_col0 {\n",
              "  background-color: #84a7fc;\n",
              "  color: #f1f1f1;\n",
              "}\n",
              "#T_fa269_row5_col1 {\n",
              "  background-color: #6f92f3;\n",
              "  color: #f1f1f1;\n",
              "}\n",
              "#T_fa269_row5_col2 {\n",
              "  background-color: #6b8df0;\n",
              "  color: #f1f1f1;\n",
              "}\n",
              "#T_fa269_row5_col3 {\n",
              "  background-color: #7093f3;\n",
              "  color: #f1f1f1;\n",
              "}\n",
              "#T_fa269_row5_col4 {\n",
              "  background-color: #8badfd;\n",
              "  color: #000000;\n",
              "}\n",
              "#T_fa269_row6_col0 {\n",
              "  background-color: #a3c2fe;\n",
              "  color: #000000;\n",
              "}\n",
              "#T_fa269_row6_col1 {\n",
              "  background-color: #cdd9ec;\n",
              "  color: #000000;\n",
              "}\n",
              "#T_fa269_row6_col2 {\n",
              "  background-color: #bad0f8;\n",
              "  color: #000000;\n",
              "}\n",
              "#T_fa269_row6_col3 {\n",
              "  background-color: #edd2c3;\n",
              "  color: #000000;\n",
              "}\n",
              "#T_fa269_row6_col4 {\n",
              "  background-color: #bcd2f7;\n",
              "  color: #000000;\n",
              "}\n",
              "#T_fa269_row6_col5 {\n",
              "  background-color: #7a9df8;\n",
              "  color: #f1f1f1;\n",
              "}\n",
              "</style>\n",
              "<table id=\"T_fa269_\" class=\"dataframe\">\n",
              "  <thead>\n",
              "    <tr>\n",
              "      <th class=\"blank level0\" >&nbsp;</th>\n",
              "      <th class=\"col_heading level0 col0\" >Age</th>\n",
              "      <th class=\"col_heading level0 col1\" >SystolicBP</th>\n",
              "      <th class=\"col_heading level0 col2\" >DiastolicBP</th>\n",
              "      <th class=\"col_heading level0 col3\" >BS</th>\n",
              "      <th class=\"col_heading level0 col4\" >BodyTemp</th>\n",
              "      <th class=\"col_heading level0 col5\" >HeartRate</th>\n",
              "      <th class=\"col_heading level0 col6\" >RiskLevel</th>\n",
              "    </tr>\n",
              "  </thead>\n",
              "  <tbody>\n",
              "    <tr>\n",
              "      <th id=\"T_fa269_level0_row0\" class=\"row_heading level0 row0\" >Age</th>\n",
              "      <td id=\"T_fa269_row0_col0\" class=\"data row0 col0\" >1.000000</td>\n",
              "      <td id=\"T_fa269_row0_col1\" class=\"data row0 col1\" >0.375931</td>\n",
              "      <td id=\"T_fa269_row0_col2\" class=\"data row0 col2\" >0.347846</td>\n",
              "      <td id=\"T_fa269_row0_col3\" class=\"data row0 col3\" >0.376616</td>\n",
              "      <td id=\"T_fa269_row0_col4\" class=\"data row0 col4\" >-0.188843</td>\n",
              "      <td id=\"T_fa269_row0_col5\" class=\"data row0 col5\" >0.077407</td>\n",
              "      <td id=\"T_fa269_row0_col6\" class=\"data row0 col6\" >0.183010</td>\n",
              "    </tr>\n",
              "    <tr>\n",
              "      <th id=\"T_fa269_level0_row1\" class=\"row_heading level0 row1\" >SystolicBP</th>\n",
              "      <td id=\"T_fa269_row1_col0\" class=\"data row1 col0\" >0.375931</td>\n",
              "      <td id=\"T_fa269_row1_col1\" class=\"data row1 col1\" >1.000000</td>\n",
              "      <td id=\"T_fa269_row1_col2\" class=\"data row1 col2\" >0.790002</td>\n",
              "      <td id=\"T_fa269_row1_col3\" class=\"data row1 col3\" >0.347534</td>\n",
              "      <td id=\"T_fa269_row1_col4\" class=\"data row1 col4\" >-0.207267</td>\n",
              "      <td id=\"T_fa269_row1_col5\" class=\"data row1 col5\" >-0.006088</td>\n",
              "      <td id=\"T_fa269_row1_col6\" class=\"data row1 col6\" >0.327365</td>\n",
              "    </tr>\n",
              "    <tr>\n",
              "      <th id=\"T_fa269_level0_row2\" class=\"row_heading level0 row2\" >DiastolicBP</th>\n",
              "      <td id=\"T_fa269_row2_col0\" class=\"data row2 col0\" >0.347846</td>\n",
              "      <td id=\"T_fa269_row2_col1\" class=\"data row2 col1\" >0.790002</td>\n",
              "      <td id=\"T_fa269_row2_col2\" class=\"data row2 col2\" >1.000000</td>\n",
              "      <td id=\"T_fa269_row2_col3\" class=\"data row2 col3\" >0.300423</td>\n",
              "      <td id=\"T_fa269_row2_col4\" class=\"data row2 col4\" >-0.201992</td>\n",
              "      <td id=\"T_fa269_row2_col5\" class=\"data row2 col5\" >-0.016470</td>\n",
              "      <td id=\"T_fa269_row2_col6\" class=\"data row2 col6\" >0.254239</td>\n",
              "    </tr>\n",
              "    <tr>\n",
              "      <th id=\"T_fa269_level0_row3\" class=\"row_heading level0 row3\" >BS</th>\n",
              "      <td id=\"T_fa269_row3_col0\" class=\"data row3 col0\" >0.376616</td>\n",
              "      <td id=\"T_fa269_row3_col1\" class=\"data row3 col1\" >0.347534</td>\n",
              "      <td id=\"T_fa269_row3_col2\" class=\"data row3 col2\" >0.300423</td>\n",
              "      <td id=\"T_fa269_row3_col3\" class=\"data row3 col3\" >1.000000</td>\n",
              "      <td id=\"T_fa269_row3_col4\" class=\"data row3 col4\" >-0.042511</td>\n",
              "      <td id=\"T_fa269_row3_col5\" class=\"data row3 col5\" >0.135605</td>\n",
              "      <td id=\"T_fa269_row3_col6\" class=\"data row3 col6\" >0.548888</td>\n",
              "    </tr>\n",
              "    <tr>\n",
              "      <th id=\"T_fa269_level0_row4\" class=\"row_heading level0 row4\" >BodyTemp</th>\n",
              "      <td id=\"T_fa269_row4_col0\" class=\"data row4 col0\" >-0.188843</td>\n",
              "      <td id=\"T_fa269_row4_col1\" class=\"data row4 col1\" >-0.207267</td>\n",
              "      <td id=\"T_fa269_row4_col2\" class=\"data row4 col2\" >-0.201992</td>\n",
              "      <td id=\"T_fa269_row4_col3\" class=\"data row4 col3\" >-0.042511</td>\n",
              "      <td id=\"T_fa269_row4_col4\" class=\"data row4 col4\" >1.000000</td>\n",
              "      <td id=\"T_fa269_row4_col5\" class=\"data row4 col5\" >0.087262</td>\n",
              "      <td id=\"T_fa269_row4_col6\" class=\"data row4 col6\" >0.259701</td>\n",
              "    </tr>\n",
              "    <tr>\n",
              "      <th id=\"T_fa269_level0_row5\" class=\"row_heading level0 row5\" >HeartRate</th>\n",
              "      <td id=\"T_fa269_row5_col0\" class=\"data row5 col0\" >0.077407</td>\n",
              "      <td id=\"T_fa269_row5_col1\" class=\"data row5 col1\" >-0.006088</td>\n",
              "      <td id=\"T_fa269_row5_col2\" class=\"data row5 col2\" >-0.016470</td>\n",
              "      <td id=\"T_fa269_row5_col3\" class=\"data row5 col3\" >0.135605</td>\n",
              "      <td id=\"T_fa269_row5_col4\" class=\"data row5 col4\" >0.087262</td>\n",
              "      <td id=\"T_fa269_row5_col5\" class=\"data row5 col5\" >1.000000</td>\n",
              "      <td id=\"T_fa269_row5_col6\" class=\"data row5 col6\" >0.183289</td>\n",
              "    </tr>\n",
              "    <tr>\n",
              "      <th id=\"T_fa269_level0_row6\" class=\"row_heading level0 row6\" >RiskLevel</th>\n",
              "      <td id=\"T_fa269_row6_col0\" class=\"data row6 col0\" >0.183010</td>\n",
              "      <td id=\"T_fa269_row6_col1\" class=\"data row6 col1\" >0.327365</td>\n",
              "      <td id=\"T_fa269_row6_col2\" class=\"data row6 col2\" >0.254239</td>\n",
              "      <td id=\"T_fa269_row6_col3\" class=\"data row6 col3\" >0.548888</td>\n",
              "      <td id=\"T_fa269_row6_col4\" class=\"data row6 col4\" >0.259701</td>\n",
              "      <td id=\"T_fa269_row6_col5\" class=\"data row6 col5\" >0.183289</td>\n",
              "      <td id=\"T_fa269_row6_col6\" class=\"data row6 col6\" >1.000000</td>\n",
              "    </tr>\n",
              "  </tbody>\n",
              "</table>\n"
            ]
          },
          "metadata": {},
          "execution_count": 9
        }
      ]
    },
    {
      "cell_type": "markdown",
      "source": [
        "Composicion de Riesgo: Inicialmente evaluaremos como se encuestran compuestos los distintos niveles de riesgo."
      ],
      "metadata": {
        "id": "IRrBItRGwHMh"
      }
    },
    {
      "cell_type": "code",
      "source": [
        "import matplotlib.pyplot as plt\n",
        "\n",
        "fig1 = plt.figure(dpi=100)\n",
        "ax1 = fig1.add_subplot(1,1,1) \n",
        "\n",
        "size = [112,106,234]\n",
        "etiquetas = [\"High Risk\",\"Mid Risk\",\"Low Risk\"]\n",
        "colores=[\"powderblue\",\"slategrey\",\"thistle\"]\n",
        "\n",
        "ax1.pie(size, autopct=\"%.2f%%\", shadow = False, startangle=0, colors=colores)\n",
        "ax1.legend(bbox_to_anchor=(1, 1.05), loc='upper right', labels= etiquetas)\n",
        "\n",
        "ax1.axis(\"equal\")\n",
        "\n",
        "plt.show()"
      ],
      "metadata": {
        "colab": {
          "base_uri": "https://localhost:8080/",
          "height": 347
        },
        "id": "KZzrP7G1vNgc",
        "outputId": "2c2e5b92-524e-4330-9421-179407d1fab0"
      },
      "execution_count": 10,
      "outputs": [
        {
          "output_type": "display_data",
          "data": {
            "text/plain": [
              "<Figure size 600x400 with 1 Axes>"
            ],
            "image/png": "[encoded data removed]"
          },
          "metadata": {}
        }
      ]
    },
    {
      "cell_type": "markdown",
      "source": [
        "A continuacion procederemos a graficar cada una de las variables que tenian el mayor nivel de correlacion con respecto a nuestro \"Nivel de Riesgo\"."
      ],
      "metadata": {
        "id": "z-_3Ng05xZ_q"
      }
    },
    {
      "cell_type": "code",
      "source": [
        "import matplotlib.pyplot as plt\n",
        "\n",
        "plt.figure(dpi = 120)\n",
        "plt.suptitle(\"Relacion entre variables claves\", fontsize=14, fontweight=\"bold\",color = \"black\" )\n",
        "\n",
        "plt.plot(df3[\"DiastolicBP\"],df3[\"SystolicBP\"],'.', label= \"Diastolic vs Systolic\" , color = \"darkblue\",)\n",
        "plt.xticks(rotation=0, size=10)\n",
        "plt.legend()\n",
        "plt.show"
      ],
      "metadata": {
        "colab": {
          "base_uri": "https://localhost:8080/",
          "height": 498
        },
        "id": "cEKNOWCUyhfb",
        "outputId": "12c80f6d-4c70-4f3c-a74b-06f2489e785d"
      },
      "execution_count": 13,
      "outputs": [
        {
          "output_type": "execute_result",
          "data": {
            "text/plain": [
              "<function matplotlib.pyplot.show(*args, **kw)>"
            ]
          },
          "metadata": {},
          "execution_count": 13
        },
        {
          "output_type": "display_data",
          "data": {
            "text/plain": [
              "<Figure size 720x480 with 1 Axes>"
            ],
            "image/png": "[encoded data removed]"
          },
          "metadata": {
            "needs_background": "light"
          }
        }
      ]
    },
    {
      "cell_type": "code",
      "source": [
        "import matplotlib.pyplot as plt\n",
        "\n",
        "plt.figure(dpi = 120)\n",
        "plt.suptitle(\"Relacion entre variables claves\", fontsize=14, fontweight=\"bold\",color = \"black\" )\n",
        "\n",
        "plt.plot(df3[\"BS\"],df3[\"RiskLevel\"],'.', label= \"BS vs Risk Level\" , color = \"dodgerblue\",)\n",
        "plt.xticks(rotation=0, size=10)\n",
        "plt.legend()\n",
        "plt.show"
      ],
      "metadata": {
        "colab": {
          "base_uri": "https://localhost:8080/",
          "height": 498
        },
        "id": "87zG12feumyF",
        "outputId": "4656531f-e03e-46ec-f02d-e24f21557dd1"
      },
      "execution_count": 15,
      "outputs": [
        {
          "output_type": "execute_result",
          "data": {
            "text/plain": [
              "<function matplotlib.pyplot.show(*args, **kw)>"
            ]
          },
          "metadata": {},
          "execution_count": 15
        },
        {
          "output_type": "display_data",
          "data": {
            "text/plain": [
              "<Figure size 720x480 with 1 Axes>"
            ],
            "image/png": "[encoded data removed]"
          },
          "metadata": {
            "needs_background": "light"
          }
        }
      ]
    },
    {
      "cell_type": "code",
      "source": [
        "import matplotlib.pyplot as plt\n",
        "\n",
        "plt.figure(dpi = 120)\n",
        "plt.suptitle(\"Relacion entre variables claves\", fontsize=14, fontweight=\"bold\",color = \"black\" )\n",
        "\n",
        "plt.plot(df3[\"SystolicBP\"],df3[\"RiskLevel\"],'.', label= \"SystolicBP vs Risk Level\" , color = \"darkviolet\",)\n",
        "plt.xticks(rotation=0, size=10)\n",
        "plt.legend()\n",
        "plt.show"
      ],
      "metadata": {
        "colab": {
          "base_uri": "https://localhost:8080/",
          "height": 498
        },
        "id": "Ek4FNHqmvoo4",
        "outputId": "f833a633-71af-4ba1-8e28-8b70964fd40a"
      },
      "execution_count": 16,
      "outputs": [
        {
          "output_type": "execute_result",
          "data": {
            "text/plain": [
              "<function matplotlib.pyplot.show(*args, **kw)>"
            ]
          },
          "metadata": {},
          "execution_count": 16
        },
        {
          "output_type": "display_data",
          "data": {
            "text/plain": [
              "<Figure size 720x480 with 1 Axes>"
            ],
            "image/png": "[encoded data removed]"
          },
          "metadata": {
            "needs_background": "light"
          }
        }
      ]
    },
    {
      "cell_type": "code",
      "source": [
        "df3.loc[:,:].hist(bins=25,\n",
        "                 figsize=(16,16),\n",
        "                 xlabelsize='10',\n",
        "                 ylabelsize='10',xrot=0);"
      ],
      "metadata": {
        "colab": {
          "base_uri": "https://localhost:8080/",
          "height": 935
        },
        "id": "earcq5VE0Jrk",
        "outputId": "bd840236-b391-4034-8af1-f92f0e3f3e1e"
      },
      "execution_count": 42,
      "outputs": [
        {
          "output_type": "display_data",
          "data": {
            "text/plain": [
              "<Figure size 1152x1152 with 9 Axes>"
            ],
            "image/png": "[encoded data removed]"
          },
          "metadata": {}
        }
      ]
    },
    {
      "cell_type": "code",
      "source": [
        "import seaborn as sns\n",
        "\n",
        "fig, axes = plt.subplots(nrows = 1,ncols = 6,figsize = (10,2), dpi=200)\n",
        "sns.regplot(x='BS', y='RiskLevel', data=df3, ci=None, ax = axes[0], scatter_kws={'alpha':0.3});\n",
        "sns.regplot(x='SystolicBP', y='RiskLevel', data=df3, ci=None, ax = axes[1], scatter_kws={'alpha':0.3});\n",
        "sns.regplot(x='BodyTemp', y='RiskLevel', data=df3, ci=None, ax = axes[2], scatter_kws={'alpha':0.3});\n",
        "sns.regplot(x='DiastolicBP', y='RiskLevel', data=df3, ci=None, ax = axes[3], scatter_kws={'alpha':0.3});\n",
        "sns.regplot(x='HeartRate', y='RiskLevel', data=df3, ci=None, ax = axes[4], scatter_kws={'alpha':0.3});\n",
        "sns.regplot(x='Age', y='RiskLevel', data=df3, ci=None, ax = axes[5], scatter_kws={'alpha':0.3});\n",
        "fig.tight_layout()"
      ],
      "metadata": {
        "colab": {
          "base_uri": "https://localhost:8080/",
          "height": 304
        },
        "id": "QdXkZ6-R0foa",
        "outputId": "8a418ff3-8d68-4ef6-9da1-2c06b76ac0b7"
      },
      "execution_count": 55,
      "outputs": [
        {
          "output_type": "display_data",
          "data": {
            "text/plain": [
              "<Figure size 2000x400 with 6 Axes>"
            ],
            "image/png": "[encoded data removed]"
          },
          "metadata": {}
        }
      ]
    },
    {
      "cell_type": "markdown",
      "source": [
        "1. Creacion y Optimizacion de Modelo Predictivo"
      ],
      "metadata": {
        "id": "ENGUA2RDwZqx"
      }
    },
    {
      "cell_type": "markdown",
      "source": [
        "A) KNN"
      ],
      "metadata": {
        "id": "in-xfCAbwtqC"
      }
    },
    {
      "cell_type": "code",
      "source": [
        "import pandas as pd\n",
        "import numpy as np\n",
        "import matplotlib.pyplot as plt\n",
        "from matplotlib.colors import ListedColormap\n",
        "import matplotlib.patches as mpatches\n",
        "import seaborn as sb\n",
        "\n",
        "\n",
        "%matplotlib inline\n",
        "plt.rcParams['figure.figsize'] = (16, 9)\n",
        "plt.style.use('ggplot')\n",
        "\n",
        "from sklearn.model_selection import train_test_split\n",
        "from sklearn.preprocessing import MinMaxScaler\n",
        "from sklearn.neighbors import KNeighborsClassifier\n",
        "from sklearn.metrics import classification_report\n",
        "from sklearn.metrics import confusion_matrix\n",
        "from sklearn.svm import LinearSVC\n",
        "from sklearn.exceptions import NotFittedError"
      ],
      "metadata": {
        "id": "1s4loomWwuRE"
      },
      "execution_count": 24,
      "outputs": []
    },
    {
      "cell_type": "markdown",
      "source": [
        "Preparamos el dataset"
      ],
      "metadata": {
        "id": "T0xw8QNByJCO"
      }
    },
    {
      "cell_type": "code",
      "source": [
        "# Las variables objeto de prediccion fueron elegidas en funcion de su correlacion con la variable a predecir.\n",
        "X = df3[['Age','SystolicBP','DiastolicBP','BS','BodyTemp','HeartRate']].values\n",
        "y = df3['RiskLevel'].values\n",
        "\n",
        "X_train, X_test, y_train, y_test = train_test_split(X, y,test_size=0.3, random_state=123)\n",
        "scaler = MinMaxScaler()\n",
        "X_train = scaler.fit_transform(X_train)\n",
        "X_test = scaler.transform(X_test)"
      ],
      "metadata": {
        "id": "XUQ4w24OwwYM"
      },
      "execution_count": 25,
      "outputs": []
    },
    {
      "cell_type": "markdown",
      "source": [
        "Creamos el Modelo"
      ],
      "metadata": {
        "id": "WXLhzqsUyK60"
      }
    },
    {
      "cell_type": "code",
      "source": [
        "#Realizamos iteraciones para \"N° de vecinos\" y nos quedamos con el mejor equilibrio para el nivel de precision de test y entrenamiento.\n",
        "\n",
        "n_neighbors = 90\n",
        "\n",
        "knn = KNeighborsClassifier(n_neighbors)\n",
        "knn.fit(X_train,y_train)\n",
        "print('Accuracy of K-NN classifier on training set: {:.2f}'\n",
        "     .format(knn.score(X_train, y_train)))\n",
        "print('Accuracy of K-NN classifier on test set: {:.2f}'\n",
        "     .format(knn.score(X_test, y_test)))"
      ],
      "metadata": {
        "colab": {
          "base_uri": "https://localhost:8080/"
        },
        "id": "v9Nuj74_yMsk",
        "outputId": "e66f6099-5179-4f08-8e41-57d804d2b262"
      },
      "execution_count": 26,
      "outputs": [
        {
          "output_type": "stream",
          "name": "stdout",
          "text": [
            "Accuracy of K-NN classifier on training set: 0.61\n",
            "Accuracy of K-NN classifier on test set: 0.58\n"
          ]
        }
      ]
    },
    {
      "cell_type": "markdown",
      "source": [
        "B) Arbol de Decision"
      ],
      "metadata": {
        "id": "XlW3QNOdyRKR"
      }
    },
    {
      "cell_type": "code",
      "source": [
        "from sklearn.datasets import load_iris\n",
        "from sklearn.tree import DecisionTreeClassifier\n",
        "import pandas as pd\n",
        "from sklearn import tree\n",
        "import matplotlib.pyplot as plt"
      ],
      "metadata": {
        "id": "hO6Pe7ffyRs7"
      },
      "execution_count": 29,
      "outputs": []
    },
    {
      "cell_type": "code",
      "source": [
        "# Las variables objeto de prediccion fueron elegidas en funcion de su correlacion con la variable a predecir.\n",
        "X = df3[['Age','SystolicBP','DiastolicBP','BS','BodyTemp','HeartRate']].values\n",
        "y = df3['RiskLevel'].values\n",
        "\n",
        "X_train, X_test, y_train, y_test = train_test_split(X, y,test_size=0.3, random_state=123)\n",
        "\n",
        "tree_clf = DecisionTreeClassifier(max_depth=50)\n",
        "tree_clf.fit(X_train, y_train)\n",
        "# Visualizando árbol de decisión\n",
        "# Nueva instancia\n",
        "# CALCULAMOS LAS Probabilidades por cada clase\n",
        "print(tree_clf.predict_proba(X_test))\n",
        "# Clase predicha\n",
        "pred=tree_clf.predict(X_test)\n",
        "print(\"Esta instancia pertenece a la clase\",tree_clf.predict(X_test))"
      ],
      "metadata": {
        "colab": {
          "base_uri": "https://localhost:8080/"
        },
        "id": "6Cohm7UMyXM4",
        "outputId": "1abcbd4b-6c5c-4535-84fa-50f7e0e91943"
      },
      "execution_count": 30,
      "outputs": [
        {
          "output_type": "stream",
          "name": "stdout",
          "text": [
            "[[1.  0.  0. ]\n",
            " [1.  0.  0. ]\n",
            " [1.  0.  0. ]\n",
            " [1.  0.  0. ]\n",
            " [0.  0.  1. ]\n",
            " [1.  0.  0. ]\n",
            " [0.  0.  1. ]\n",
            " [1.  0.  0. ]\n",
            " [0.5 0.5 0. ]\n",
            " [1.  0.  0. ]\n",
            " [1.  0.  0. ]\n",
            " [0.  1.  0. ]\n",
            " [1.  0.  0. ]\n",
            " [0.  0.  1. ]\n",
            " [1.  0.  0. ]\n",
            " [0.  0.  1. ]\n",
            " [0.  0.  1. ]\n",
            " [1.  0.  0. ]\n",
            " [1.  0.  0. ]\n",
            " [1.  0.  0. ]\n",
            " [0.  1.  0. ]\n",
            " [1.  0.  0. ]\n",
            " [1.  0.  0. ]\n",
            " [1.  0.  0. ]\n",
            " [1.  0.  0. ]\n",
            " [1.  0.  0. ]\n",
            " [0.  0.  1. ]\n",
            " [0.  0.  1. ]\n",
            " [0.  0.  1. ]\n",
            " [0.  0.  1. ]\n",
            " [1.  0.  0. ]\n",
            " [0.  1.  0. ]\n",
            " [0.5 0.5 0. ]\n",
            " [1.  0.  0. ]\n",
            " [0.  0.  1. ]\n",
            " [0.  0.  1. ]\n",
            " [0.  1.  0. ]\n",
            " [1.  0.  0. ]\n",
            " [1.  0.  0. ]\n",
            " [1.  0.  0. ]\n",
            " [1.  0.  0. ]\n",
            " [0.  1.  0. ]\n",
            " [1.  0.  0. ]\n",
            " [0.  1.  0. ]\n",
            " [1.  0.  0. ]\n",
            " [1.  0.  0. ]\n",
            " [1.  0.  0. ]\n",
            " [1.  0.  0. ]\n",
            " [0.  0.  1. ]\n",
            " [0.  1.  0. ]\n",
            " [0.  0.  1. ]\n",
            " [1.  0.  0. ]\n",
            " [0.  0.  1. ]\n",
            " [1.  0.  0. ]\n",
            " [1.  0.  0. ]\n",
            " [1.  0.  0. ]\n",
            " [1.  0.  0. ]\n",
            " [1.  0.  0. ]\n",
            " [0.  0.  1. ]\n",
            " [1.  0.  0. ]\n",
            " [0.  0.  1. ]\n",
            " [0.  1.  0. ]\n",
            " [0.5 0.5 0. ]\n",
            " [0.  0.  1. ]\n",
            " [0.  0.  1. ]\n",
            " [1.  0.  0. ]\n",
            " [0.  1.  0. ]\n",
            " [1.  0.  0. ]\n",
            " [0.  1.  0. ]\n",
            " [1.  0.  0. ]\n",
            " [0.  1.  0. ]\n",
            " [1.  0.  0. ]\n",
            " [1.  0.  0. ]\n",
            " [0.  0.  1. ]\n",
            " [0.5 0.5 0. ]\n",
            " [1.  0.  0. ]\n",
            " [1.  0.  0. ]\n",
            " [1.  0.  0. ]\n",
            " [1.  0.  0. ]\n",
            " [0.5 0.5 0. ]\n",
            " [0.  0.  1. ]\n",
            " [1.  0.  0. ]\n",
            " [0.  1.  0. ]\n",
            " [0.  0.  1. ]\n",
            " [0.  1.  0. ]\n",
            " [1.  0.  0. ]\n",
            " [1.  0.  0. ]\n",
            " [0.  0.  1. ]\n",
            " [1.  0.  0. ]\n",
            " [0.  1.  0. ]\n",
            " [1.  0.  0. ]\n",
            " [0.  1.  0. ]\n",
            " [1.  0.  0. ]\n",
            " [0.  1.  0. ]\n",
            " [0.5 0.5 0. ]\n",
            " [1.  0.  0. ]\n",
            " [1.  0.  0. ]\n",
            " [1.  0.  0. ]\n",
            " [0.  0.  1. ]\n",
            " [0.  0.  1. ]\n",
            " [0.  0.  1. ]\n",
            " [0.  1.  0. ]\n",
            " [1.  0.  0. ]\n",
            " [1.  0.  0. ]\n",
            " [1.  0.  0. ]\n",
            " [0.  0.  1. ]\n",
            " [1.  0.  0. ]\n",
            " [1.  0.  0. ]\n",
            " [0.  1.  0. ]\n",
            " [1.  0.  0. ]\n",
            " [1.  0.  0. ]\n",
            " [1.  0.  0. ]\n",
            " [0.  0.  1. ]\n",
            " [1.  0.  0. ]\n",
            " [0.  1.  0. ]\n",
            " [1.  0.  0. ]\n",
            " [0.  0.  1. ]\n",
            " [0.  1.  0. ]\n",
            " [0.  1.  0. ]\n",
            " [0.  1.  0. ]\n",
            " [1.  0.  0. ]\n",
            " [1.  0.  0. ]\n",
            " [0.  0.  1. ]\n",
            " [0.  1.  0. ]\n",
            " [0.  0.  1. ]\n",
            " [0.  1.  0. ]\n",
            " [1.  0.  0. ]\n",
            " [0.  0.  1. ]\n",
            " [0.  1.  0. ]\n",
            " [0.  0.  1. ]\n",
            " [1.  0.  0. ]\n",
            " [1.  0.  0. ]\n",
            " [1.  0.  0. ]\n",
            " [0.  0.  1. ]\n",
            " [1.  0.  0. ]\n",
            " [0.  1.  0. ]]\n",
            "Esta instancia pertenece a la clase [1 1 1 1 3 1 3 1 1 1 1 2 1 3 1 3 3 1 1 1 2 1 1 1 1 1 3 3 3 3 1 2 1 1 3 3 2\n",
            " 1 1 1 1 2 1 2 1 1 1 1 3 2 3 1 3 1 1 1 1 1 3 1 3 2 1 3 3 1 2 1 2 1 2 1 1 3\n",
            " 1 1 1 1 1 1 3 1 2 3 2 1 1 3 1 2 1 2 1 2 1 1 1 1 3 3 3 2 1 1 1 3 1 1 2 1 1\n",
            " 1 3 1 2 1 3 2 2 2 1 1 3 2 3 2 1 3 2 3 1 1 1 3 1 2]\n"
          ]
        }
      ]
    },
    {
      "cell_type": "code",
      "source": [
        "pred = tree_clf.predict(X_test)\n",
        "print(confusion_matrix(y_test, pred))\n",
        "print(classification_report(y_test, pred))"
      ],
      "metadata": {
        "colab": {
          "base_uri": "https://localhost:8080/"
        },
        "id": "3L1hbmqKym-S",
        "outputId": "83f5abef-b4f6-482e-bcc4-6165a1db6307"
      },
      "execution_count": 31,
      "outputs": [
        {
          "output_type": "stream",
          "name": "stdout",
          "text": [
            "[[57  9  4]\n",
            " [18 12 11]\n",
            " [ 2  5 18]]\n",
            "              precision    recall  f1-score   support\n",
            "\n",
            "           1       0.74      0.81      0.78        70\n",
            "           2       0.46      0.29      0.36        41\n",
            "           3       0.55      0.72      0.62        25\n",
            "\n",
            "    accuracy                           0.64       136\n",
            "   macro avg       0.58      0.61      0.58       136\n",
            "weighted avg       0.62      0.64      0.62       136\n",
            "\n"
          ]
        }
      ]
    },
    {
      "cell_type": "markdown",
      "source": [
        "C) Random Forests"
      ],
      "metadata": {
        "id": "Na6c4fvbytBM"
      }
    },
    {
      "cell_type": "code",
      "source": [
        "from sklearn.ensemble import RandomForestClassifier\n",
        "\n",
        "rndf_clf = RandomForestClassifier(n_estimators=20)\n",
        "rndf_clf.fit(X_train, y_train)\n",
        "y_pred = rndf_clf.predict(X_test)\n",
        "\n",
        "pred = rndf_clf.predict(X_test)\n",
        "print(confusion_matrix(y_test, pred))\n",
        "print(classification_report(y_test, pred))\n",
        "\n",
        "rndf_clf.score(X_test, y_test)"
      ],
      "metadata": {
        "colab": {
          "base_uri": "https://localhost:8080/"
        },
        "id": "WbEPsrhnyt7Y",
        "outputId": "7badce8f-af14-4618-c69b-a4f271317e28"
      },
      "execution_count": 32,
      "outputs": [
        {
          "output_type": "stream",
          "name": "stdout",
          "text": [
            "[[61  5  4]\n",
            " [23 11  7]\n",
            " [ 2  7 16]]\n",
            "              precision    recall  f1-score   support\n",
            "\n",
            "           1       0.71      0.87      0.78        70\n",
            "           2       0.48      0.27      0.34        41\n",
            "           3       0.59      0.64      0.62        25\n",
            "\n",
            "    accuracy                           0.65       136\n",
            "   macro avg       0.59      0.59      0.58       136\n",
            "weighted avg       0.62      0.65      0.62       136\n",
            "\n"
          ]
        },
        {
          "output_type": "execute_result",
          "data": {
            "text/plain": [
              "0.6470588235294118"
            ]
          },
          "metadata": {},
          "execution_count": 32
        }
      ]
    },
    {
      "cell_type": "markdown",
      "source": [
        "D) Regresion Logistica"
      ],
      "metadata": {
        "id": "8SPVJga_yyfE"
      }
    },
    {
      "cell_type": "code",
      "source": [
        "from sklearn.linear_model import LogisticRegression\n",
        "from sklearn.model_selection import GridSearchCV\n",
        "# Entrenamiento regresión logística\n",
        "log_reg = LogisticRegression()\n",
        "log_reg.fit(X_train, y_train)"
      ],
      "metadata": {
        "colab": {
          "base_uri": "https://localhost:8080/"
        },
        "id": "cpupZuBnyzA4",
        "outputId": "bad4b3a2-6aa1-448d-d41d-c1078339fa9f"
      },
      "execution_count": 33,
      "outputs": [
        {
          "output_type": "stream",
          "name": "stderr",
          "text": [
            "/usr/local/lib/python3.7/dist-packages/sklearn/linear_model/_logistic.py:818: ConvergenceWarning: lbfgs failed to converge (status=1):\n",
            "STOP: TOTAL NO. of ITERATIONS REACHED LIMIT.\n",
            "\n",
            "Increase the number of iterations (max_iter) or scale the data as shown in:\n",
            "    https://scikit-learn.org/stable/modules/preprocessing.html\n",
            "Please also refer to the documentation for alternative solver options:\n",
            "    https://scikit-learn.org/stable/modules/linear_model.html#logistic-regression\n",
            "  extra_warning_msg=_LOGISTIC_SOLVER_CONVERGENCE_MSG,\n"
          ]
        },
        {
          "output_type": "execute_result",
          "data": {
            "text/plain": [
              "LogisticRegression()"
            ]
          },
          "metadata": {},
          "execution_count": 33
        }
      ]
    },
    {
      "cell_type": "code",
      "source": [
        "y_pred = log_reg.predict(X_test)\n",
        "\n",
        "pred = log_reg.predict(X_test)\n",
        "print(confusion_matrix(y_test, pred))\n",
        "print(classification_report(y_test, pred))\n",
        "\n",
        "log_reg.score(X_test, y_test)"
      ],
      "metadata": {
        "colab": {
          "base_uri": "https://localhost:8080/"
        },
        "id": "FDLehN9Dy2Si",
        "outputId": "97808784-af2e-4092-a328-9d4fc0148677"
      },
      "execution_count": 34,
      "outputs": [
        {
          "output_type": "stream",
          "name": "stdout",
          "text": [
            "[[68  0  2]\n",
            " [36  1  4]\n",
            " [10  1 14]]\n",
            "              precision    recall  f1-score   support\n",
            "\n",
            "           1       0.60      0.97      0.74        70\n",
            "           2       0.50      0.02      0.05        41\n",
            "           3       0.70      0.56      0.62        25\n",
            "\n",
            "    accuracy                           0.61       136\n",
            "   macro avg       0.60      0.52      0.47       136\n",
            "weighted avg       0.59      0.61      0.51       136\n",
            "\n"
          ]
        },
        {
          "output_type": "execute_result",
          "data": {
            "text/plain": [
              "0.6102941176470589"
            ]
          },
          "metadata": {},
          "execution_count": 34
        }
      ]
    }
  ]
}